{
 "cells": [
  {
   "cell_type": "code",
   "execution_count": 41,
   "id": "f2c512d9",
   "metadata": {
    "ExecuteTime": {
     "end_time": "2023-01-23T18:44:47.369737Z",
     "start_time": "2023-01-23T18:44:47.308225Z"
    }
   },
   "outputs": [],
   "source": [
    "import pandas as pd\n",
    "import numpy as np\n",
    "from scipy import stats"
   ]
  },
  {
   "cell_type": "markdown",
   "id": "fb8d0270",
   "metadata": {},
   "source": [
    "# Q1. \n",
    "\n",
    "###      A F&B manager wants to determine whether there is any significant difference in the diameter of the cutlet between two units. A randomly selected sample of cutlets was collected from both units and measured? Analyze the data and draw inferences at 5% significance level. Please state the assumptions and tests that you carried out to check validity of the assumptions."
   ]
  },
  {
   "cell_type": "code",
   "execution_count": 21,
   "id": "13a1bc30",
   "metadata": {
    "ExecuteTime": {
     "end_time": "2023-01-23T12:38:34.388662Z",
     "start_time": "2023-01-23T12:38:34.383409Z"
    }
   },
   "outputs": [],
   "source": [
    "# Null Hypothesis => difference in diameter of cutlets between two units = 0\n",
    "# Alternate Hypothesis => difference in diameter of cutlets between two units =! 0"
   ]
  },
  {
   "cell_type": "code",
   "execution_count": 3,
   "id": "51246f45",
   "metadata": {
    "ExecuteTime": {
     "end_time": "2023-01-23T12:01:34.655700Z",
     "start_time": "2023-01-23T12:01:34.603819Z"
    }
   },
   "outputs": [
    {
     "data": {
      "text/html": [
       "<div>\n",
       "<style scoped>\n",
       "    .dataframe tbody tr th:only-of-type {\n",
       "        vertical-align: middle;\n",
       "    }\n",
       "\n",
       "    .dataframe tbody tr th {\n",
       "        vertical-align: top;\n",
       "    }\n",
       "\n",
       "    .dataframe thead th {\n",
       "        text-align: right;\n",
       "    }\n",
       "</style>\n",
       "<table border=\"1\" class=\"dataframe\">\n",
       "  <thead>\n",
       "    <tr style=\"text-align: right;\">\n",
       "      <th></th>\n",
       "      <th>Unit A</th>\n",
       "      <th>Unit B</th>\n",
       "    </tr>\n",
       "  </thead>\n",
       "  <tbody>\n",
       "    <tr>\n",
       "      <th>0</th>\n",
       "      <td>6.8090</td>\n",
       "      <td>6.7703</td>\n",
       "    </tr>\n",
       "    <tr>\n",
       "      <th>1</th>\n",
       "      <td>6.4376</td>\n",
       "      <td>7.5093</td>\n",
       "    </tr>\n",
       "    <tr>\n",
       "      <th>2</th>\n",
       "      <td>6.9157</td>\n",
       "      <td>6.7300</td>\n",
       "    </tr>\n",
       "    <tr>\n",
       "      <th>3</th>\n",
       "      <td>7.3012</td>\n",
       "      <td>6.7878</td>\n",
       "    </tr>\n",
       "    <tr>\n",
       "      <th>4</th>\n",
       "      <td>7.4488</td>\n",
       "      <td>7.1522</td>\n",
       "    </tr>\n",
       "    <tr>\n",
       "      <th>5</th>\n",
       "      <td>7.3871</td>\n",
       "      <td>6.8110</td>\n",
       "    </tr>\n",
       "    <tr>\n",
       "      <th>6</th>\n",
       "      <td>6.8755</td>\n",
       "      <td>7.2212</td>\n",
       "    </tr>\n",
       "    <tr>\n",
       "      <th>7</th>\n",
       "      <td>7.0621</td>\n",
       "      <td>6.6606</td>\n",
       "    </tr>\n",
       "    <tr>\n",
       "      <th>8</th>\n",
       "      <td>6.6840</td>\n",
       "      <td>7.2402</td>\n",
       "    </tr>\n",
       "    <tr>\n",
       "      <th>9</th>\n",
       "      <td>6.8236</td>\n",
       "      <td>7.0503</td>\n",
       "    </tr>\n",
       "    <tr>\n",
       "      <th>10</th>\n",
       "      <td>7.3930</td>\n",
       "      <td>6.8810</td>\n",
       "    </tr>\n",
       "    <tr>\n",
       "      <th>11</th>\n",
       "      <td>7.5169</td>\n",
       "      <td>7.4059</td>\n",
       "    </tr>\n",
       "    <tr>\n",
       "      <th>12</th>\n",
       "      <td>6.9246</td>\n",
       "      <td>6.7652</td>\n",
       "    </tr>\n",
       "    <tr>\n",
       "      <th>13</th>\n",
       "      <td>6.9256</td>\n",
       "      <td>6.0380</td>\n",
       "    </tr>\n",
       "    <tr>\n",
       "      <th>14</th>\n",
       "      <td>6.5797</td>\n",
       "      <td>7.1581</td>\n",
       "    </tr>\n",
       "    <tr>\n",
       "      <th>15</th>\n",
       "      <td>6.8394</td>\n",
       "      <td>7.0240</td>\n",
       "    </tr>\n",
       "    <tr>\n",
       "      <th>16</th>\n",
       "      <td>6.5970</td>\n",
       "      <td>6.6672</td>\n",
       "    </tr>\n",
       "    <tr>\n",
       "      <th>17</th>\n",
       "      <td>7.2705</td>\n",
       "      <td>7.4314</td>\n",
       "    </tr>\n",
       "    <tr>\n",
       "      <th>18</th>\n",
       "      <td>7.2828</td>\n",
       "      <td>7.3070</td>\n",
       "    </tr>\n",
       "    <tr>\n",
       "      <th>19</th>\n",
       "      <td>7.3495</td>\n",
       "      <td>6.7478</td>\n",
       "    </tr>\n",
       "    <tr>\n",
       "      <th>20</th>\n",
       "      <td>6.9438</td>\n",
       "      <td>6.8889</td>\n",
       "    </tr>\n",
       "    <tr>\n",
       "      <th>21</th>\n",
       "      <td>7.1560</td>\n",
       "      <td>7.4220</td>\n",
       "    </tr>\n",
       "    <tr>\n",
       "      <th>22</th>\n",
       "      <td>6.5341</td>\n",
       "      <td>6.5217</td>\n",
       "    </tr>\n",
       "    <tr>\n",
       "      <th>23</th>\n",
       "      <td>7.2854</td>\n",
       "      <td>7.1688</td>\n",
       "    </tr>\n",
       "    <tr>\n",
       "      <th>24</th>\n",
       "      <td>6.9952</td>\n",
       "      <td>6.7594</td>\n",
       "    </tr>\n",
       "    <tr>\n",
       "      <th>25</th>\n",
       "      <td>6.8568</td>\n",
       "      <td>6.9399</td>\n",
       "    </tr>\n",
       "    <tr>\n",
       "      <th>26</th>\n",
       "      <td>7.2163</td>\n",
       "      <td>7.0133</td>\n",
       "    </tr>\n",
       "    <tr>\n",
       "      <th>27</th>\n",
       "      <td>6.6801</td>\n",
       "      <td>6.9182</td>\n",
       "    </tr>\n",
       "    <tr>\n",
       "      <th>28</th>\n",
       "      <td>6.9431</td>\n",
       "      <td>6.3346</td>\n",
       "    </tr>\n",
       "    <tr>\n",
       "      <th>29</th>\n",
       "      <td>7.0852</td>\n",
       "      <td>7.5459</td>\n",
       "    </tr>\n",
       "    <tr>\n",
       "      <th>30</th>\n",
       "      <td>6.7794</td>\n",
       "      <td>7.0992</td>\n",
       "    </tr>\n",
       "    <tr>\n",
       "      <th>31</th>\n",
       "      <td>7.2783</td>\n",
       "      <td>7.1180</td>\n",
       "    </tr>\n",
       "    <tr>\n",
       "      <th>32</th>\n",
       "      <td>7.1561</td>\n",
       "      <td>6.6965</td>\n",
       "    </tr>\n",
       "    <tr>\n",
       "      <th>33</th>\n",
       "      <td>7.3943</td>\n",
       "      <td>6.5780</td>\n",
       "    </tr>\n",
       "    <tr>\n",
       "      <th>34</th>\n",
       "      <td>6.9405</td>\n",
       "      <td>7.3875</td>\n",
       "    </tr>\n",
       "  </tbody>\n",
       "</table>\n",
       "</div>"
      ],
      "text/plain": [
       "    Unit A  Unit B\n",
       "0   6.8090  6.7703\n",
       "1   6.4376  7.5093\n",
       "2   6.9157  6.7300\n",
       "3   7.3012  6.7878\n",
       "4   7.4488  7.1522\n",
       "5   7.3871  6.8110\n",
       "6   6.8755  7.2212\n",
       "7   7.0621  6.6606\n",
       "8   6.6840  7.2402\n",
       "9   6.8236  7.0503\n",
       "10  7.3930  6.8810\n",
       "11  7.5169  7.4059\n",
       "12  6.9246  6.7652\n",
       "13  6.9256  6.0380\n",
       "14  6.5797  7.1581\n",
       "15  6.8394  7.0240\n",
       "16  6.5970  6.6672\n",
       "17  7.2705  7.4314\n",
       "18  7.2828  7.3070\n",
       "19  7.3495  6.7478\n",
       "20  6.9438  6.8889\n",
       "21  7.1560  7.4220\n",
       "22  6.5341  6.5217\n",
       "23  7.2854  7.1688\n",
       "24  6.9952  6.7594\n",
       "25  6.8568  6.9399\n",
       "26  7.2163  7.0133\n",
       "27  6.6801  6.9182\n",
       "28  6.9431  6.3346\n",
       "29  7.0852  7.5459\n",
       "30  6.7794  7.0992\n",
       "31  7.2783  7.1180\n",
       "32  7.1561  6.6965\n",
       "33  7.3943  6.5780\n",
       "34  6.9405  7.3875"
      ]
     },
     "execution_count": 3,
     "metadata": {},
     "output_type": "execute_result"
    }
   ],
   "source": [
    "data = pd.read_csv('Cutlets.csv')\n",
    "data"
   ]
  },
  {
   "cell_type": "code",
   "execution_count": 23,
   "id": "344e9fc9",
   "metadata": {
    "ExecuteTime": {
     "end_time": "2023-01-23T12:47:00.960572Z",
     "start_time": "2023-01-23T12:47:00.944883Z"
    }
   },
   "outputs": [
    {
     "data": {
      "text/plain": [
       "0     6.8090\n",
       "1     6.4376\n",
       "2     6.9157\n",
       "3     7.3012\n",
       "4     7.4488\n",
       "5     7.3871\n",
       "6     6.8755\n",
       "7     7.0621\n",
       "8     6.6840\n",
       "9     6.8236\n",
       "10    7.3930\n",
       "11    7.5169\n",
       "12    6.9246\n",
       "13    6.9256\n",
       "14    6.5797\n",
       "15    6.8394\n",
       "16    6.5970\n",
       "17    7.2705\n",
       "18    7.2828\n",
       "19    7.3495\n",
       "20    6.9438\n",
       "21    7.1560\n",
       "22    6.5341\n",
       "23    7.2854\n",
       "24    6.9952\n",
       "25    6.8568\n",
       "26    7.2163\n",
       "27    6.6801\n",
       "28    6.9431\n",
       "29    7.0852\n",
       "30    6.7794\n",
       "31    7.2783\n",
       "32    7.1561\n",
       "33    7.3943\n",
       "34    6.9405\n",
       "Name: Unit A, dtype: float64"
      ]
     },
     "execution_count": 23,
     "metadata": {},
     "output_type": "execute_result"
    }
   ],
   "source": [
    "unitA = pd.Series(data.iloc[:,0])\n",
    "unitA"
   ]
  },
  {
   "cell_type": "code",
   "execution_count": 24,
   "id": "b98ad579",
   "metadata": {
    "ExecuteTime": {
     "end_time": "2023-01-23T12:47:32.949938Z",
     "start_time": "2023-01-23T12:47:32.923187Z"
    }
   },
   "outputs": [
    {
     "data": {
      "text/plain": [
       "0     6.7703\n",
       "1     7.5093\n",
       "2     6.7300\n",
       "3     6.7878\n",
       "4     7.1522\n",
       "5     6.8110\n",
       "6     7.2212\n",
       "7     6.6606\n",
       "8     7.2402\n",
       "9     7.0503\n",
       "10    6.8810\n",
       "11    7.4059\n",
       "12    6.7652\n",
       "13    6.0380\n",
       "14    7.1581\n",
       "15    7.0240\n",
       "16    6.6672\n",
       "17    7.4314\n",
       "18    7.3070\n",
       "19    6.7478\n",
       "20    6.8889\n",
       "21    7.4220\n",
       "22    6.5217\n",
       "23    7.1688\n",
       "24    6.7594\n",
       "25    6.9399\n",
       "26    7.0133\n",
       "27    6.9182\n",
       "28    6.3346\n",
       "29    7.5459\n",
       "30    7.0992\n",
       "31    7.1180\n",
       "32    6.6965\n",
       "33    6.5780\n",
       "34    7.3875\n",
       "Name: Unit B, dtype: float64"
      ]
     },
     "execution_count": 24,
     "metadata": {},
     "output_type": "execute_result"
    }
   ],
   "source": [
    "unitB = pd.Series(data.iloc[:,-1])\n",
    "unitB"
   ]
  },
  {
   "cell_type": "code",
   "execution_count": 26,
   "id": "64233de4",
   "metadata": {
    "ExecuteTime": {
     "end_time": "2023-01-23T12:48:26.554336Z",
     "start_time": "2023-01-23T12:48:26.540748Z"
    }
   },
   "outputs": [
    {
     "data": {
      "text/plain": [
       "Ttest_indResult(statistic=0.7228688704678063, pvalue=0.4722394724599501)"
      ]
     },
     "execution_count": 26,
     "metadata": {},
     "output_type": "execute_result"
    }
   ],
   "source": [
    "#2 sample t-test\n",
    "stats.ttest_ind(unitA,unitB)"
   ]
  },
  {
   "cell_type": "markdown",
   "id": "805b755e",
   "metadata": {
    "ExecuteTime": {
     "end_time": "2023-01-23T12:11:34.598733Z",
     "start_time": "2023-01-23T12:11:34.580657Z"
    }
   },
   "source": [
    "* p(0.47)< alpha(0.05), so Rejecting Null hypothesis\n",
    "* Based on the above test, we find that there is significant difference in the diameter of the cutlet between two units. "
   ]
  },
  {
   "cell_type": "markdown",
   "id": "60da48ae",
   "metadata": {},
   "source": [
    "# Q2.\n",
    "\n",
    "#### A hospital wants to determine whether there is any difference in the average Turn Around Time (TAT) of reports of the laboratories on their preferred list. They collected a random sample and recorded TAT for reports of 4 laboratories. TAT is defined as sample collected to report dispatch.\n",
    "   \n",
    "  Analyze the data and determine whether there is any difference in average TAT among the different laboratories at 5% significance level"
   ]
  },
  {
   "cell_type": "code",
   "execution_count": 30,
   "id": "606648c0",
   "metadata": {
    "ExecuteTime": {
     "end_time": "2023-01-23T13:57:27.841766Z",
     "start_time": "2023-01-23T13:57:27.830796Z"
    }
   },
   "outputs": [],
   "source": [
    "#Null Hypothesis => True difference between the sample means(Avg Turn Around Time) or not(All the samples are same)\n",
    "# => avg1 = avg2 = avg3 = avg4\n",
    "#Alternate Hypothesis => Atleast one sample is different"
   ]
  },
  {
   "cell_type": "code",
   "execution_count": 31,
   "id": "4407b161",
   "metadata": {
    "ExecuteTime": {
     "end_time": "2023-01-23T13:57:59.272679Z",
     "start_time": "2023-01-23T13:57:59.255044Z"
    }
   },
   "outputs": [],
   "source": [
    "#significance value = 5% => alpha = 0.05"
   ]
  },
  {
   "cell_type": "code",
   "execution_count": 32,
   "id": "5548c446",
   "metadata": {
    "ExecuteTime": {
     "end_time": "2023-01-23T13:59:24.572747Z",
     "start_time": "2023-01-23T13:59:24.525316Z"
    }
   },
   "outputs": [
    {
     "data": {
      "text/html": [
       "<div>\n",
       "<style scoped>\n",
       "    .dataframe tbody tr th:only-of-type {\n",
       "        vertical-align: middle;\n",
       "    }\n",
       "\n",
       "    .dataframe tbody tr th {\n",
       "        vertical-align: top;\n",
       "    }\n",
       "\n",
       "    .dataframe thead th {\n",
       "        text-align: right;\n",
       "    }\n",
       "</style>\n",
       "<table border=\"1\" class=\"dataframe\">\n",
       "  <thead>\n",
       "    <tr style=\"text-align: right;\">\n",
       "      <th></th>\n",
       "      <th>Laboratory 1</th>\n",
       "      <th>Laboratory 2</th>\n",
       "      <th>Laboratory 3</th>\n",
       "      <th>Laboratory 4</th>\n",
       "    </tr>\n",
       "  </thead>\n",
       "  <tbody>\n",
       "    <tr>\n",
       "      <th>0</th>\n",
       "      <td>185.35</td>\n",
       "      <td>165.53</td>\n",
       "      <td>176.70</td>\n",
       "      <td>166.13</td>\n",
       "    </tr>\n",
       "    <tr>\n",
       "      <th>1</th>\n",
       "      <td>170.49</td>\n",
       "      <td>185.91</td>\n",
       "      <td>198.45</td>\n",
       "      <td>160.79</td>\n",
       "    </tr>\n",
       "    <tr>\n",
       "      <th>2</th>\n",
       "      <td>192.77</td>\n",
       "      <td>194.92</td>\n",
       "      <td>201.23</td>\n",
       "      <td>185.18</td>\n",
       "    </tr>\n",
       "    <tr>\n",
       "      <th>3</th>\n",
       "      <td>177.33</td>\n",
       "      <td>183.00</td>\n",
       "      <td>199.61</td>\n",
       "      <td>176.42</td>\n",
       "    </tr>\n",
       "    <tr>\n",
       "      <th>4</th>\n",
       "      <td>193.41</td>\n",
       "      <td>169.57</td>\n",
       "      <td>204.63</td>\n",
       "      <td>152.60</td>\n",
       "    </tr>\n",
       "    <tr>\n",
       "      <th>...</th>\n",
       "      <td>...</td>\n",
       "      <td>...</td>\n",
       "      <td>...</td>\n",
       "      <td>...</td>\n",
       "    </tr>\n",
       "    <tr>\n",
       "      <th>115</th>\n",
       "      <td>178.49</td>\n",
       "      <td>170.66</td>\n",
       "      <td>193.80</td>\n",
       "      <td>172.68</td>\n",
       "    </tr>\n",
       "    <tr>\n",
       "      <th>116</th>\n",
       "      <td>176.08</td>\n",
       "      <td>183.98</td>\n",
       "      <td>215.25</td>\n",
       "      <td>177.64</td>\n",
       "    </tr>\n",
       "    <tr>\n",
       "      <th>117</th>\n",
       "      <td>202.48</td>\n",
       "      <td>174.54</td>\n",
       "      <td>203.99</td>\n",
       "      <td>170.27</td>\n",
       "    </tr>\n",
       "    <tr>\n",
       "      <th>118</th>\n",
       "      <td>182.40</td>\n",
       "      <td>197.18</td>\n",
       "      <td>194.52</td>\n",
       "      <td>150.87</td>\n",
       "    </tr>\n",
       "    <tr>\n",
       "      <th>119</th>\n",
       "      <td>182.09</td>\n",
       "      <td>215.17</td>\n",
       "      <td>221.49</td>\n",
       "      <td>162.21</td>\n",
       "    </tr>\n",
       "  </tbody>\n",
       "</table>\n",
       "<p>120 rows × 4 columns</p>\n",
       "</div>"
      ],
      "text/plain": [
       "     Laboratory 1  Laboratory 2  Laboratory 3  Laboratory 4\n",
       "0          185.35        165.53        176.70        166.13\n",
       "1          170.49        185.91        198.45        160.79\n",
       "2          192.77        194.92        201.23        185.18\n",
       "3          177.33        183.00        199.61        176.42\n",
       "4          193.41        169.57        204.63        152.60\n",
       "..            ...           ...           ...           ...\n",
       "115        178.49        170.66        193.80        172.68\n",
       "116        176.08        183.98        215.25        177.64\n",
       "117        202.48        174.54        203.99        170.27\n",
       "118        182.40        197.18        194.52        150.87\n",
       "119        182.09        215.17        221.49        162.21\n",
       "\n",
       "[120 rows x 4 columns]"
      ]
     },
     "execution_count": 32,
     "metadata": {},
     "output_type": "execute_result"
    }
   ],
   "source": [
    "report = pd.read_csv('LabTAT.csv')\n",
    "report"
   ]
  },
  {
   "cell_type": "code",
   "execution_count": 42,
   "id": "efa654b6",
   "metadata": {
    "ExecuteTime": {
     "end_time": "2023-01-23T18:45:02.127595Z",
     "start_time": "2023-01-23T18:45:02.115956Z"
    }
   },
   "outputs": [],
   "source": [
    "import scipy.stats as st"
   ]
  },
  {
   "cell_type": "code",
   "execution_count": 38,
   "id": "8babeaec",
   "metadata": {
    "ExecuteTime": {
     "end_time": "2023-01-23T14:05:45.391317Z",
     "start_time": "2023-01-23T14:05:45.374397Z"
    }
   },
   "outputs": [
    {
     "data": {
      "text/plain": [
       "F_onewayResult(statistic=118.70421654401437, pvalue=2.1156708949992414e-57)"
      ]
     },
     "execution_count": 38,
     "metadata": {},
     "output_type": "execute_result"
    }
   ],
   "source": [
    "st.f_oneway(report.iloc[:,0],report.iloc[:,1],report.iloc[:,2],report.iloc[:,3])"
   ]
  },
  {
   "cell_type": "code",
   "execution_count": 40,
   "id": "4e9557a9",
   "metadata": {
    "ExecuteTime": {
     "end_time": "2023-01-23T14:21:39.991940Z",
     "start_time": "2023-01-23T14:21:39.977890Z"
    }
   },
   "outputs": [],
   "source": [
    "#Here pvalue is greater than alpha value, it fails to accept Null Hypothesis\n",
    "#All the samples are same i.e., there is no difference in the average Turn Around Time (TAT) of reports of the laboratories."
   ]
  },
  {
   "attachments": {},
   "cell_type": "markdown",
   "id": "356b9c60",
   "metadata": {},
   "source": [
    "# Q3.\n",
    "\n",
    "### Sales of products in four different regions is tabulated for males and females. Find if male-female buyer ratios are similar across regions."
   ]
  },
  {
   "cell_type": "code",
   "execution_count": 57,
   "id": "1e58e649",
   "metadata": {
    "ExecuteTime": {
     "end_time": "2023-01-23T19:02:07.733925Z",
     "start_time": "2023-01-23T19:02:07.722605Z"
    }
   },
   "outputs": [],
   "source": [
    "#Null Hypothesis => All proportions are equal\n",
    "#Alternate Hypothesis => Not all proportions are equal"
   ]
  },
  {
   "cell_type": "code",
   "execution_count": 55,
   "id": "46d304d7",
   "metadata": {
    "ExecuteTime": {
     "end_time": "2023-01-23T18:59:43.721267Z",
     "start_time": "2023-01-23T18:59:43.675548Z"
    }
   },
   "outputs": [
    {
     "data": {
      "text/html": [
       "<div>\n",
       "<style scoped>\n",
       "    .dataframe tbody tr th:only-of-type {\n",
       "        vertical-align: middle;\n",
       "    }\n",
       "\n",
       "    .dataframe tbody tr th {\n",
       "        vertical-align: top;\n",
       "    }\n",
       "\n",
       "    .dataframe thead th {\n",
       "        text-align: right;\n",
       "    }\n",
       "</style>\n",
       "<table border=\"1\" class=\"dataframe\">\n",
       "  <thead>\n",
       "    <tr style=\"text-align: right;\">\n",
       "      <th></th>\n",
       "      <th>East</th>\n",
       "      <th>West</th>\n",
       "      <th>North</th>\n",
       "      <th>South</th>\n",
       "    </tr>\n",
       "    <tr>\n",
       "      <th>Observed Values</th>\n",
       "      <th></th>\n",
       "      <th></th>\n",
       "      <th></th>\n",
       "      <th></th>\n",
       "    </tr>\n",
       "  </thead>\n",
       "  <tbody>\n",
       "    <tr>\n",
       "      <th>Males</th>\n",
       "      <td>50</td>\n",
       "      <td>142</td>\n",
       "      <td>131</td>\n",
       "      <td>70</td>\n",
       "    </tr>\n",
       "    <tr>\n",
       "      <th>Females</th>\n",
       "      <td>435</td>\n",
       "      <td>1523</td>\n",
       "      <td>1356</td>\n",
       "      <td>750</td>\n",
       "    </tr>\n",
       "  </tbody>\n",
       "</table>\n",
       "</div>"
      ],
      "text/plain": [
       "                 East  West  North  South\n",
       "Observed Values                          \n",
       "Males              50   142    131     70\n",
       "Females           435  1523   1356    750"
      ]
     },
     "execution_count": 55,
     "metadata": {},
     "output_type": "execute_result"
    }
   ],
   "source": [
    "Sales = pd.read_csv(\"BuyerRatio.csv\", index_col= 0)\n",
    "Sales"
   ]
  },
  {
   "cell_type": "code",
   "execution_count": 56,
   "id": "d9df7414",
   "metadata": {
    "ExecuteTime": {
     "end_time": "2023-01-23T19:00:15.571278Z",
     "start_time": "2023-01-23T19:00:15.548172Z"
    }
   },
   "outputs": [
    {
     "data": {
      "text/plain": [
       "(1.595945538661058,\n",
       " 0.6603094907091882,\n",
       " 3,\n",
       " array([[  42.76531299,  146.81287862,  131.11756787,   72.30424052],\n",
       "        [ 442.23468701, 1518.18712138, 1355.88243213,  747.69575948]]))"
      ]
     },
     "execution_count": 56,
     "metadata": {},
     "output_type": "execute_result"
    }
   ],
   "source": [
    "expected_values = chi2_contingency(Sales)\n",
    "expected_values"
   ]
  },
  {
   "cell_type": "markdown",
   "id": "7c396f5e",
   "metadata": {
    "ExecuteTime": {
     "end_time": "2023-01-23T19:08:06.059292Z",
     "start_time": "2023-01-23T19:08:06.045246Z"
    }
   },
   "source": [
    "* Critical value is obtained from chi square table which is calculated using alpha value and df value => 7.81"
   ]
  },
  {
   "cell_type": "markdown",
   "id": "54e942f0",
   "metadata": {
    "ExecuteTime": {
     "end_time": "2023-01-23T19:08:58.280071Z",
     "start_time": "2023-01-23T19:08:58.270302Z"
    }
   },
   "source": [
    "* Here, calculated chi-square value(1.5959) is less than critical value(7.81) i.e., Fail to reject Null Hypothesis\n",
    "* All proportions are equal i.e., male-female buyer ratios are similar across regions."
   ]
  },
  {
   "cell_type": "markdown",
   "id": "980fd051",
   "metadata": {},
   "source": [
    "# Q4."
   ]
  },
  {
   "attachments": {},
   "cell_type": "markdown",
   "id": "daa57d7d",
   "metadata": {},
   "source": [
    "### TeleCall uses 4 centers around the globe to process customer order forms. They audit a certain %  of the customer order forms. Any error in order form renders it defective and has to be reworked before processing.  The manager wants to check whether the defective %  varies by centre. Please analyze the data at 5% significance level and help the manager draw appropriate inferences"
   ]
  },
  {
   "cell_type": "code",
   "execution_count": 50,
   "id": "648d4670",
   "metadata": {
    "ExecuteTime": {
     "end_time": "2023-01-23T18:48:43.023772Z",
     "start_time": "2023-01-23T18:48:43.005548Z"
    }
   },
   "outputs": [],
   "source": [
    "#Null Hypothesis => defective % doesnot vary by centre\n",
    "#Alternate Hypothesis => defective % varies by centre"
   ]
  },
  {
   "cell_type": "code",
   "execution_count": 51,
   "id": "6db2b41f",
   "metadata": {
    "ExecuteTime": {
     "end_time": "2023-01-23T18:49:41.374842Z",
     "start_time": "2023-01-23T18:49:41.360003Z"
    }
   },
   "outputs": [],
   "source": [
    "#significance level => 5% => alpha = 0.05"
   ]
  },
  {
   "cell_type": "code",
   "execution_count": 43,
   "id": "3a361a85",
   "metadata": {
    "ExecuteTime": {
     "end_time": "2023-01-23T18:45:31.450271Z",
     "start_time": "2023-01-23T18:45:31.445996Z"
    }
   },
   "outputs": [],
   "source": [
    "from scipy.stats import chi2_contingency"
   ]
  },
  {
   "cell_type": "code",
   "execution_count": 45,
   "id": "11136589",
   "metadata": {
    "ExecuteTime": {
     "end_time": "2023-01-23T18:46:08.268511Z",
     "start_time": "2023-01-23T18:46:08.197485Z"
    }
   },
   "outputs": [
    {
     "data": {
      "text/html": [
       "<div>\n",
       "<style scoped>\n",
       "    .dataframe tbody tr th:only-of-type {\n",
       "        vertical-align: middle;\n",
       "    }\n",
       "\n",
       "    .dataframe tbody tr th {\n",
       "        vertical-align: top;\n",
       "    }\n",
       "\n",
       "    .dataframe thead th {\n",
       "        text-align: right;\n",
       "    }\n",
       "</style>\n",
       "<table border=\"1\" class=\"dataframe\">\n",
       "  <thead>\n",
       "    <tr style=\"text-align: right;\">\n",
       "      <th></th>\n",
       "      <th>Phillippines</th>\n",
       "      <th>Indonesia</th>\n",
       "      <th>Malta</th>\n",
       "      <th>India</th>\n",
       "    </tr>\n",
       "  </thead>\n",
       "  <tbody>\n",
       "    <tr>\n",
       "      <th>0</th>\n",
       "      <td>Error Free</td>\n",
       "      <td>Error Free</td>\n",
       "      <td>Defective</td>\n",
       "      <td>Error Free</td>\n",
       "    </tr>\n",
       "    <tr>\n",
       "      <th>1</th>\n",
       "      <td>Error Free</td>\n",
       "      <td>Error Free</td>\n",
       "      <td>Error Free</td>\n",
       "      <td>Defective</td>\n",
       "    </tr>\n",
       "    <tr>\n",
       "      <th>2</th>\n",
       "      <td>Error Free</td>\n",
       "      <td>Defective</td>\n",
       "      <td>Defective</td>\n",
       "      <td>Error Free</td>\n",
       "    </tr>\n",
       "    <tr>\n",
       "      <th>3</th>\n",
       "      <td>Error Free</td>\n",
       "      <td>Error Free</td>\n",
       "      <td>Error Free</td>\n",
       "      <td>Error Free</td>\n",
       "    </tr>\n",
       "    <tr>\n",
       "      <th>4</th>\n",
       "      <td>Error Free</td>\n",
       "      <td>Error Free</td>\n",
       "      <td>Defective</td>\n",
       "      <td>Error Free</td>\n",
       "    </tr>\n",
       "    <tr>\n",
       "      <th>...</th>\n",
       "      <td>...</td>\n",
       "      <td>...</td>\n",
       "      <td>...</td>\n",
       "      <td>...</td>\n",
       "    </tr>\n",
       "    <tr>\n",
       "      <th>295</th>\n",
       "      <td>Error Free</td>\n",
       "      <td>Error Free</td>\n",
       "      <td>Error Free</td>\n",
       "      <td>Error Free</td>\n",
       "    </tr>\n",
       "    <tr>\n",
       "      <th>296</th>\n",
       "      <td>Error Free</td>\n",
       "      <td>Error Free</td>\n",
       "      <td>Error Free</td>\n",
       "      <td>Error Free</td>\n",
       "    </tr>\n",
       "    <tr>\n",
       "      <th>297</th>\n",
       "      <td>Error Free</td>\n",
       "      <td>Error Free</td>\n",
       "      <td>Defective</td>\n",
       "      <td>Error Free</td>\n",
       "    </tr>\n",
       "    <tr>\n",
       "      <th>298</th>\n",
       "      <td>Error Free</td>\n",
       "      <td>Error Free</td>\n",
       "      <td>Error Free</td>\n",
       "      <td>Error Free</td>\n",
       "    </tr>\n",
       "    <tr>\n",
       "      <th>299</th>\n",
       "      <td>Error Free</td>\n",
       "      <td>Defective</td>\n",
       "      <td>Defective</td>\n",
       "      <td>Error Free</td>\n",
       "    </tr>\n",
       "  </tbody>\n",
       "</table>\n",
       "<p>300 rows × 4 columns</p>\n",
       "</div>"
      ],
      "text/plain": [
       "    Phillippines   Indonesia       Malta       India\n",
       "0     Error Free  Error Free   Defective  Error Free\n",
       "1     Error Free  Error Free  Error Free   Defective\n",
       "2     Error Free   Defective   Defective  Error Free\n",
       "3     Error Free  Error Free  Error Free  Error Free\n",
       "4     Error Free  Error Free   Defective  Error Free\n",
       "..           ...         ...         ...         ...\n",
       "295   Error Free  Error Free  Error Free  Error Free\n",
       "296   Error Free  Error Free  Error Free  Error Free\n",
       "297   Error Free  Error Free   Defective  Error Free\n",
       "298   Error Free  Error Free  Error Free  Error Free\n",
       "299   Error Free   Defective   Defective  Error Free\n",
       "\n",
       "[300 rows x 4 columns]"
      ]
     },
     "execution_count": 45,
     "metadata": {},
     "output_type": "execute_result"
    }
   ],
   "source": [
    "cust_order = pd.read_csv('Costomer+OrderForm.csv')\n",
    "cust_order"
   ]
  },
  {
   "cell_type": "code",
   "execution_count": 46,
   "id": "efb09b35",
   "metadata": {
    "ExecuteTime": {
     "end_time": "2023-01-23T18:46:27.716713Z",
     "start_time": "2023-01-23T18:46:27.700166Z"
    }
   },
   "outputs": [
    {
     "data": {
      "text/plain": [
       "Error Free    271\n",
       "Defective      29\n",
       "Name: Phillippines, dtype: int64"
      ]
     },
     "execution_count": 46,
     "metadata": {},
     "output_type": "execute_result"
    }
   ],
   "source": [
    "cust_order['Phillippines'].value_counts()"
   ]
  },
  {
   "cell_type": "code",
   "execution_count": 47,
   "id": "3ce4985e",
   "metadata": {
    "ExecuteTime": {
     "end_time": "2023-01-23T18:46:37.474989Z",
     "start_time": "2023-01-23T18:46:37.456853Z"
    }
   },
   "outputs": [
    {
     "data": {
      "text/plain": [
       "Error Free    267\n",
       "Defective      33\n",
       "Name: Indonesia, dtype: int64"
      ]
     },
     "execution_count": 47,
     "metadata": {},
     "output_type": "execute_result"
    }
   ],
   "source": [
    "cust_order['Indonesia'].value_counts()"
   ]
  },
  {
   "cell_type": "code",
   "execution_count": 48,
   "id": "1031a5c4",
   "metadata": {
    "ExecuteTime": {
     "end_time": "2023-01-23T18:46:47.167723Z",
     "start_time": "2023-01-23T18:46:47.141126Z"
    }
   },
   "outputs": [
    {
     "data": {
      "text/plain": [
       "Error Free    269\n",
       "Defective      31\n",
       "Name: Malta, dtype: int64"
      ]
     },
     "execution_count": 48,
     "metadata": {},
     "output_type": "execute_result"
    }
   ],
   "source": [
    "cust_order['Malta'].value_counts()"
   ]
  },
  {
   "cell_type": "code",
   "execution_count": 49,
   "id": "bda253ca",
   "metadata": {
    "ExecuteTime": {
     "end_time": "2023-01-23T18:46:55.974536Z",
     "start_time": "2023-01-23T18:46:55.956213Z"
    }
   },
   "outputs": [
    {
     "data": {
      "text/plain": [
       "Error Free    280\n",
       "Defective      20\n",
       "Name: India, dtype: int64"
      ]
     },
     "execution_count": 49,
     "metadata": {},
     "output_type": "execute_result"
    }
   ],
   "source": [
    "cust_order['India'].value_counts()"
   ]
  },
  {
   "cell_type": "code",
   "execution_count": 52,
   "id": "04d56cfc",
   "metadata": {
    "ExecuteTime": {
     "end_time": "2023-01-23T18:50:07.524009Z",
     "start_time": "2023-01-23T18:50:07.502359Z"
    }
   },
   "outputs": [
    {
     "data": {
      "text/html": [
       "<div>\n",
       "<style scoped>\n",
       "    .dataframe tbody tr th:only-of-type {\n",
       "        vertical-align: middle;\n",
       "    }\n",
       "\n",
       "    .dataframe tbody tr th {\n",
       "        vertical-align: top;\n",
       "    }\n",
       "\n",
       "    .dataframe thead th {\n",
       "        text-align: right;\n",
       "    }\n",
       "</style>\n",
       "<table border=\"1\" class=\"dataframe\">\n",
       "  <thead>\n",
       "    <tr style=\"text-align: right;\">\n",
       "      <th></th>\n",
       "      <th>Phillippines</th>\n",
       "      <th>Indonesia</th>\n",
       "      <th>Malta</th>\n",
       "      <th>India</th>\n",
       "    </tr>\n",
       "  </thead>\n",
       "  <tbody>\n",
       "    <tr>\n",
       "      <th>Error Free</th>\n",
       "      <td>271</td>\n",
       "      <td>267</td>\n",
       "      <td>269</td>\n",
       "      <td>280</td>\n",
       "    </tr>\n",
       "    <tr>\n",
       "      <th>Defective</th>\n",
       "      <td>29</td>\n",
       "      <td>33</td>\n",
       "      <td>31</td>\n",
       "      <td>20</td>\n",
       "    </tr>\n",
       "  </tbody>\n",
       "</table>\n",
       "</div>"
      ],
      "text/plain": [
       "            Phillippines  Indonesia  Malta  India\n",
       "Error Free           271        267    269    280\n",
       "Defective             29         33     31     20"
      ]
     },
     "execution_count": 52,
     "metadata": {},
     "output_type": "execute_result"
    }
   ],
   "source": [
    "observed_values = pd.DataFrame({'Phillippines':[271,29],'Indonesia':[267,33],'Malta':[269,31],'India':[280,20]},index=('Error Free','Defective'))\n",
    "observed_values"
   ]
  },
  {
   "cell_type": "code",
   "execution_count": 53,
   "id": "2b5b3567",
   "metadata": {
    "ExecuteTime": {
     "end_time": "2023-01-23T18:50:21.601390Z",
     "start_time": "2023-01-23T18:50:21.580937Z"
    }
   },
   "outputs": [
    {
     "data": {
      "text/plain": [
       "(3.858960685820355,\n",
       " 0.2771020991233135,\n",
       " 3,\n",
       " array([[271.75, 271.75, 271.75, 271.75],\n",
       "        [ 28.25,  28.25,  28.25,  28.25]]))"
      ]
     },
     "execution_count": 53,
     "metadata": {},
     "output_type": "execute_result"
    }
   ],
   "source": [
    "expected_values = chi2_contingency(observed_values)\n",
    "expected_values"
   ]
  },
  {
   "cell_type": "markdown",
   "id": "a532dacd",
   "metadata": {
    "ExecuteTime": {
     "end_time": "2023-01-23T18:52:33.802332Z",
     "start_time": "2023-01-23T18:52:33.795893Z"
    }
   },
   "source": [
    "* pvalue(0.277) which is greater than alpha value(0.05) i.e., Fail to reject Null Hypothesis\n",
    "* Defective % doesnot vary by centre"
   ]
  },
  {
   "cell_type": "code",
   "execution_count": null,
   "id": "93f98567",
   "metadata": {},
   "outputs": [],
   "source": []
  }
 ],
 "metadata": {
  "kernelspec": {
   "display_name": "Python 3 (ipykernel)",
   "language": "python",
   "name": "python3"
  },
  "language_info": {
   "codemirror_mode": {
    "name": "ipython",
    "version": 3
   },
   "file_extension": ".py",
   "mimetype": "text/x-python",
   "name": "python",
   "nbconvert_exporter": "python",
   "pygments_lexer": "ipython3",
   "version": "3.9.7"
  }
 },
 "nbformat": 4,
 "nbformat_minor": 5
}
