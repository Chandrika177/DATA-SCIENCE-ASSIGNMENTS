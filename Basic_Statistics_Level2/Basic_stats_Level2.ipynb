{
 "cells": [
  {
   "cell_type": "markdown",
   "id": "376f3637",
   "metadata": {},
   "source": [
    "# Set1"
   ]
  },
  {
   "cell_type": "markdown",
   "id": "53a38b45",
   "metadata": {},
   "source": [
    "# Q1. \n",
    "\n",
    "### Plot the data, find the outliers and find out  μ,σ,σ^2\n",
    "\n"
   ]
  },
  {
   "cell_type": "code",
   "execution_count": 1,
   "id": "3998069a",
   "metadata": {
    "ExecuteTime": {
     "end_time": "2023-01-23T08:27:42.336413Z",
     "start_time": "2023-01-23T08:27:41.002359Z"
    }
   },
   "outputs": [],
   "source": [
    "import pandas as pd\n",
    "import numpy as np\n",
    "import matplotlib.pyplot as plt\n",
    "import seaborn as sns\n",
    "\n",
    "import warnings\n",
    "warnings.filterwarnings('ignore')"
   ]
  },
  {
   "cell_type": "code",
   "execution_count": 9,
   "id": "a8087d6b",
   "metadata": {
    "ExecuteTime": {
     "end_time": "2023-01-17T13:54:43.770953Z",
     "start_time": "2023-01-17T13:54:43.754676Z"
    }
   },
   "outputs": [],
   "source": [
    "data =[['Allied Signal',24.23],['Bankers Trust',25.53],['General Mills',25.41],['ITT Industries',24.14],['J.P.Morgan & Co',29.62],['Lehman Brothers',28.25],['Marriott',25.81],['MCI',24.39],['Merrill Lynch',40.26],['Microsoft',32.95],['Morgan Stanley',91.36],['Sun Microsystems',25.99],['Travelers',39.42],['US Airways',26.71],['Warner-Lambert',35.00]]"
   ]
  },
  {
   "cell_type": "code",
   "execution_count": 13,
   "id": "3a3efabc",
   "metadata": {
    "ExecuteTime": {
     "end_time": "2023-01-17T13:56:33.165047Z",
     "start_time": "2023-01-17T13:56:33.147612Z"
    }
   },
   "outputs": [
    {
     "data": {
      "text/html": [
       "<div>\n",
       "<style scoped>\n",
       "    .dataframe tbody tr th:only-of-type {\n",
       "        vertical-align: middle;\n",
       "    }\n",
       "\n",
       "    .dataframe tbody tr th {\n",
       "        vertical-align: top;\n",
       "    }\n",
       "\n",
       "    .dataframe thead th {\n",
       "        text-align: right;\n",
       "    }\n",
       "</style>\n",
       "<table border=\"1\" class=\"dataframe\">\n",
       "  <thead>\n",
       "    <tr style=\"text-align: right;\">\n",
       "      <th></th>\n",
       "      <th>Name of Company</th>\n",
       "      <th>Measure X</th>\n",
       "    </tr>\n",
       "  </thead>\n",
       "  <tbody>\n",
       "    <tr>\n",
       "      <th>0</th>\n",
       "      <td>Allied Signal</td>\n",
       "      <td>24.23</td>\n",
       "    </tr>\n",
       "    <tr>\n",
       "      <th>1</th>\n",
       "      <td>Bankers Trust</td>\n",
       "      <td>25.53</td>\n",
       "    </tr>\n",
       "    <tr>\n",
       "      <th>2</th>\n",
       "      <td>General Mills</td>\n",
       "      <td>25.41</td>\n",
       "    </tr>\n",
       "    <tr>\n",
       "      <th>3</th>\n",
       "      <td>ITT Industries</td>\n",
       "      <td>24.14</td>\n",
       "    </tr>\n",
       "    <tr>\n",
       "      <th>4</th>\n",
       "      <td>J.P.Morgan &amp; Co</td>\n",
       "      <td>29.62</td>\n",
       "    </tr>\n",
       "    <tr>\n",
       "      <th>5</th>\n",
       "      <td>Lehman Brothers</td>\n",
       "      <td>28.25</td>\n",
       "    </tr>\n",
       "    <tr>\n",
       "      <th>6</th>\n",
       "      <td>Marriott</td>\n",
       "      <td>25.81</td>\n",
       "    </tr>\n",
       "    <tr>\n",
       "      <th>7</th>\n",
       "      <td>MCI</td>\n",
       "      <td>24.39</td>\n",
       "    </tr>\n",
       "    <tr>\n",
       "      <th>8</th>\n",
       "      <td>Merrill Lynch</td>\n",
       "      <td>40.26</td>\n",
       "    </tr>\n",
       "    <tr>\n",
       "      <th>9</th>\n",
       "      <td>Microsoft</td>\n",
       "      <td>32.95</td>\n",
       "    </tr>\n",
       "    <tr>\n",
       "      <th>10</th>\n",
       "      <td>Morgan Stanley</td>\n",
       "      <td>91.36</td>\n",
       "    </tr>\n",
       "    <tr>\n",
       "      <th>11</th>\n",
       "      <td>Sun Microsystems</td>\n",
       "      <td>25.99</td>\n",
       "    </tr>\n",
       "    <tr>\n",
       "      <th>12</th>\n",
       "      <td>Travelers</td>\n",
       "      <td>39.42</td>\n",
       "    </tr>\n",
       "    <tr>\n",
       "      <th>13</th>\n",
       "      <td>US Airways</td>\n",
       "      <td>26.71</td>\n",
       "    </tr>\n",
       "    <tr>\n",
       "      <th>14</th>\n",
       "      <td>Warner-Lambert</td>\n",
       "      <td>35.00</td>\n",
       "    </tr>\n",
       "  </tbody>\n",
       "</table>\n",
       "</div>"
      ],
      "text/plain": [
       "     Name of Company  Measure X\n",
       "0      Allied Signal      24.23\n",
       "1      Bankers Trust      25.53\n",
       "2      General Mills      25.41\n",
       "3     ITT Industries      24.14\n",
       "4    J.P.Morgan & Co      29.62\n",
       "5    Lehman Brothers      28.25\n",
       "6           Marriott      25.81\n",
       "7                MCI      24.39\n",
       "8      Merrill Lynch      40.26\n",
       "9          Microsoft      32.95\n",
       "10    Morgan Stanley      91.36\n",
       "11  Sun Microsystems      25.99\n",
       "12         Travelers      39.42\n",
       "13        US Airways      26.71\n",
       "14    Warner-Lambert      35.00"
      ]
     },
     "execution_count": 13,
     "metadata": {},
     "output_type": "execute_result"
    }
   ],
   "source": [
    "df = pd.DataFrame(data,columns=['Name of Company','Measure X'],dtype=float)\n",
    "df"
   ]
  },
  {
   "cell_type": "code",
   "execution_count": 14,
   "id": "8af2e65d",
   "metadata": {
    "ExecuteTime": {
     "end_time": "2023-01-17T13:57:18.132079Z",
     "start_time": "2023-01-17T13:57:18.106639Z"
    }
   },
   "outputs": [
    {
     "data": {
      "text/plain": [
       "Measure X    33.271333\n",
       "dtype: float64"
      ]
     },
     "execution_count": 14,
     "metadata": {},
     "output_type": "execute_result"
    }
   ],
   "source": [
    "df.mean()"
   ]
  },
  {
   "cell_type": "code",
   "execution_count": 15,
   "id": "111662d4",
   "metadata": {
    "ExecuteTime": {
     "end_time": "2023-01-17T13:57:30.823128Z",
     "start_time": "2023-01-17T13:57:30.807821Z"
    }
   },
   "outputs": [
    {
     "data": {
      "text/plain": [
       "Measure X    16.945401\n",
       "dtype: float64"
      ]
     },
     "execution_count": 15,
     "metadata": {},
     "output_type": "execute_result"
    }
   ],
   "source": [
    "df.std()"
   ]
  },
  {
   "cell_type": "code",
   "execution_count": 16,
   "id": "c241f0d0",
   "metadata": {
    "ExecuteTime": {
     "end_time": "2023-01-17T13:57:36.578696Z",
     "start_time": "2023-01-17T13:57:36.556672Z"
    }
   },
   "outputs": [
    {
     "data": {
      "text/plain": [
       "Measure X    287.146612\n",
       "dtype: float64"
      ]
     },
     "execution_count": 16,
     "metadata": {},
     "output_type": "execute_result"
    }
   ],
   "source": [
    "df.var()"
   ]
  },
  {
   "cell_type": "code",
   "execution_count": 19,
   "id": "4c2c6f9a",
   "metadata": {
    "ExecuteTime": {
     "end_time": "2023-01-17T13:59:34.684888Z",
     "start_time": "2023-01-17T13:59:34.541092Z"
    }
   },
   "outputs": [
    {
     "data": {
      "text/plain": [
       "{'whiskers': [<matplotlib.lines.Line2D at 0x2d38fad9460>,\n",
       "  <matplotlib.lines.Line2D at 0x2d38fad9730>],\n",
       " 'caps': [<matplotlib.lines.Line2D at 0x2d38fad9ac0>,\n",
       "  <matplotlib.lines.Line2D at 0x2d38fad9e50>],\n",
       " 'boxes': [<matplotlib.lines.Line2D at 0x2d38fac5fa0>],\n",
       " 'medians': [<matplotlib.lines.Line2D at 0x2d38fae7220>],\n",
       " 'fliers': [<matplotlib.lines.Line2D at 0x2d38fae75b0>],\n",
       " 'means': []}"
      ]
     },
     "execution_count": 19,
     "metadata": {},
     "output_type": "execute_result"
    },
    {
     "data": {
      "image/png": "[encoded data removed]",
      "text/plain": [
       "<Figure size 432x288 with 1 Axes>"
      ]
     },
     "metadata": {
      "needs_background": "light"
     },
     "output_type": "display_data"
    }
   ],
   "source": [
    "plt.boxplot(df['Measure X'])"
   ]
  },
  {
   "cell_type": "markdown",
   "id": "21ad5e96",
   "metadata": {},
   "source": [
    "* There is only one outlier in this data i.e., Morgan Stanley Company with 91.36% measure."
   ]
  },
  {
   "cell_type": "markdown",
   "id": "f5559e27",
   "metadata": {},
   "source": [
    "# Set 2"
   ]
  },
  {
   "cell_type": "markdown",
   "id": "2a8cbf03",
   "metadata": {},
   "source": [
    "# Q1.\n",
    "\n",
    "###\tThe time required for servicing transmissions is normally distributed with  = 45 minutes and  = 8 minutes. The service manager plans to have work begin on the transmission of a customer’s car 10 minutes after the car is dropped off and the customer is told that the car will be ready within 1 hour from drop-off. What is the probability that the service manager cannot meet his commitment? "
   ]
  },
  {
   "cell_type": "code",
   "execution_count": 39,
   "id": "a0d3c054",
   "metadata": {
    "ExecuteTime": {
     "end_time": "2023-01-17T19:12:24.791702Z",
     "start_time": "2023-01-17T19:12:24.778303Z"
    }
   },
   "outputs": [],
   "source": [
    "Mean = 45\n",
    "\n",
    "Std = 8"
   ]
  },
  {
   "cell_type": "code",
   "execution_count": 43,
   "id": "4bd662a2",
   "metadata": {
    "ExecuteTime": {
     "end_time": "2023-01-17T19:15:00.471122Z",
     "start_time": "2023-01-17T19:15:00.463043Z"
    }
   },
   "outputs": [],
   "source": [
    "# The customer is told that the car will be ready within 1 hour from drop-off\n",
    "# The service manager plans to have work begin on the transmission of a customer’s car 10 minutes after the car is dropped off\n",
    "# The service manager needs to complete the work within 50 mins to meet the customer's commitment."
   ]
  },
  {
   "cell_type": "code",
   "execution_count": 44,
   "id": "cb3c0928",
   "metadata": {
    "ExecuteTime": {
     "end_time": "2023-01-17T19:16:12.473044Z",
     "start_time": "2023-01-17T19:16:12.462342Z"
    }
   },
   "outputs": [
    {
     "data": {
      "text/plain": [
       "0.625"
      ]
     },
     "execution_count": 44,
     "metadata": {},
     "output_type": "execute_result"
    }
   ],
   "source": [
    "# < 50 mins\n",
    "\n",
    "y = 50\n",
    "\n",
    "Z = (y-Mean)/Std\n",
    "Z"
   ]
  },
  {
   "cell_type": "code",
   "execution_count": 45,
   "id": "2562191c",
   "metadata": {
    "ExecuteTime": {
     "end_time": "2023-01-17T19:16:49.058773Z",
     "start_time": "2023-01-17T19:16:49.041808Z"
    }
   },
   "outputs": [
    {
     "data": {
      "text/plain": [
       "0.7340144709512995"
      ]
     },
     "execution_count": 45,
     "metadata": {},
     "output_type": "execute_result"
    }
   ],
   "source": [
    "# <50 mins\n",
    "stats.norm.cdf(Z)"
   ]
  },
  {
   "cell_type": "markdown",
   "id": "0940e4c0",
   "metadata": {},
   "source": [
    "* Probability that the service manager completes the work within 50 mins is 73.4%"
   ]
  },
  {
   "cell_type": "markdown",
   "id": "5251dfd8",
   "metadata": {
    "ExecuteTime": {
     "end_time": "2023-01-17T19:19:03.341197Z",
     "start_time": "2023-01-17T19:19:03.319640Z"
    }
   },
   "source": [
    " * The probability that the service manager cannot meet his commitment i.e, The service manager cannot complete the work within 50 mins "
   ]
  },
  {
   "cell_type": "code",
   "execution_count": 47,
   "id": "7894b031",
   "metadata": {
    "ExecuteTime": {
     "end_time": "2023-01-17T19:19:56.299283Z",
     "start_time": "2023-01-17T19:19:56.281626Z"
    }
   },
   "outputs": [
    {
     "data": {
      "text/plain": [
       "0.26598552904870054"
      ]
     },
     "execution_count": 47,
     "metadata": {},
     "output_type": "execute_result"
    }
   ],
   "source": [
    "1 - stats.norm.cdf(Z)"
   ]
  },
  {
   "cell_type": "markdown",
   "id": "b4015724",
   "metadata": {},
   "source": [
    "* The probability that the service manager cannot meet his commitment is 0.2659"
   ]
  },
  {
   "cell_type": "markdown",
   "id": "034d5acf",
   "metadata": {},
   "source": [
    "# Q2.\n",
    "\n",
    "### \tThe current age (in years) of 400 clerical employees at an insurance claims processing center is normally distributed with mean  = 38 and Standard deviation  =6. For each statement below, please specify True/False. If false, briefly explain why.\n",
    "\n",
    "  #### A.\tMore employees at the processing center are older than 44 than between 38 and 44.\n",
    "  \n",
    " #### B.\tA training program for employees under the age of 30 at the center would be expected to attract about 36 employees.\n"
   ]
  },
  {
   "cell_type": "code",
   "execution_count": 3,
   "id": "c1379e80",
   "metadata": {
    "ExecuteTime": {
     "end_time": "2023-01-23T08:28:17.297799Z",
     "start_time": "2023-01-23T08:28:17.287795Z"
    }
   },
   "outputs": [],
   "source": [
    "from scipy import stats\n",
    "import math"
   ]
  },
  {
   "cell_type": "code",
   "execution_count": 22,
   "id": "fef7fca8",
   "metadata": {
    "ExecuteTime": {
     "end_time": "2023-01-17T18:53:47.810917Z",
     "start_time": "2023-01-17T18:53:47.804190Z"
    }
   },
   "outputs": [],
   "source": [
    "n = 400\n",
    "mean = 38\n",
    "std = 6"
   ]
  },
  {
   "cell_type": "code",
   "execution_count": 28,
   "id": "52e24457",
   "metadata": {
    "ExecuteTime": {
     "end_time": "2023-01-17T18:55:05.231188Z",
     "start_time": "2023-01-17T18:55:05.212643Z"
    }
   },
   "outputs": [
    {
     "data": {
      "text/plain": [
       "1.0"
      ]
     },
     "execution_count": 28,
     "metadata": {},
     "output_type": "execute_result"
    }
   ],
   "source": [
    "#A.\n",
    "\n",
    "x1 = 44\n",
    "\n",
    "z1 = (x1 - mean)/std\n",
    "z1"
   ]
  },
  {
   "cell_type": "code",
   "execution_count": 27,
   "id": "bd636bc9",
   "metadata": {
    "ExecuteTime": {
     "end_time": "2023-01-17T18:54:56.982828Z",
     "start_time": "2023-01-17T18:54:56.963280Z"
    }
   },
   "outputs": [
    {
     "data": {
      "text/plain": [
       "0.8413447460685429"
      ]
     },
     "execution_count": 27,
     "metadata": {},
     "output_type": "execute_result"
    }
   ],
   "source": [
    "# <44\n",
    "stats.norm.cdf(z1)"
   ]
  },
  {
   "cell_type": "code",
   "execution_count": 29,
   "id": "74f4987c",
   "metadata": {
    "ExecuteTime": {
     "end_time": "2023-01-17T18:55:15.585757Z",
     "start_time": "2023-01-17T18:55:15.573679Z"
    }
   },
   "outputs": [
    {
     "data": {
      "text/plain": [
       "0.15865525393145707"
      ]
     },
     "execution_count": 29,
     "metadata": {},
     "output_type": "execute_result"
    }
   ],
   "source": [
    "# >44\n",
    "1- stats.norm.cdf(z1)"
   ]
  },
  {
   "cell_type": "markdown",
   "id": "c8ebd644",
   "metadata": {},
   "source": [
    "* The probability of employees older than 44 at processing center is 15.8%"
   ]
  },
  {
   "cell_type": "code",
   "execution_count": 30,
   "id": "4de72738",
   "metadata": {
    "ExecuteTime": {
     "end_time": "2023-01-17T18:55:36.395344Z",
     "start_time": "2023-01-17T18:55:36.374128Z"
    }
   },
   "outputs": [
    {
     "data": {
      "text/plain": [
       "0.0"
      ]
     },
     "execution_count": 30,
     "metadata": {},
     "output_type": "execute_result"
    }
   ],
   "source": [
    "# >38\n",
    "\n",
    "x2 = 38\n",
    "\n",
    "z2 = (x2 - mean)/std\n",
    "z2"
   ]
  },
  {
   "cell_type": "code",
   "execution_count": 31,
   "id": "d747c03b",
   "metadata": {
    "ExecuteTime": {
     "end_time": "2023-01-17T18:56:02.143074Z",
     "start_time": "2023-01-17T18:56:02.120455Z"
    }
   },
   "outputs": [
    {
     "data": {
      "text/plain": [
       "0.5"
      ]
     },
     "execution_count": 31,
     "metadata": {},
     "output_type": "execute_result"
    }
   ],
   "source": [
    "# < 38\n",
    "\n",
    "stats.norm.cdf(z2)"
   ]
  },
  {
   "cell_type": "code",
   "execution_count": 32,
   "id": "f965e54f",
   "metadata": {
    "ExecuteTime": {
     "end_time": "2023-01-17T18:56:18.159333Z",
     "start_time": "2023-01-17T18:56:18.135565Z"
    }
   },
   "outputs": [
    {
     "data": {
      "text/plain": [
       "0.5"
      ]
     },
     "execution_count": 32,
     "metadata": {},
     "output_type": "execute_result"
    }
   ],
   "source": [
    "# >38\n",
    "\n",
    "1 - stats.norm.cdf(z2)"
   ]
  },
  {
   "cell_type": "code",
   "execution_count": 33,
   "id": "5e3bfcc0",
   "metadata": {
    "ExecuteTime": {
     "end_time": "2023-01-17T18:56:49.115472Z",
     "start_time": "2023-01-17T18:56:49.092403Z"
    }
   },
   "outputs": [
    {
     "data": {
      "text/plain": [
       "0.3413447460685429"
      ]
     },
     "execution_count": 33,
     "metadata": {},
     "output_type": "execute_result"
    }
   ],
   "source": [
    "# between 38 - 44\n",
    "\n",
    "stats.norm.cdf(z1) - (1 - stats.norm.cdf(z2))"
   ]
  },
  {
   "cell_type": "markdown",
   "id": "c6a78914",
   "metadata": {},
   "source": [
    "* The Probability of employees age between 38 to 44 at processing center is 34%"
   ]
  },
  {
   "cell_type": "markdown",
   "id": "a9b49bad",
   "metadata": {},
   "source": [
    "* Based on these Probabilities we can conclude that statement A is false"
   ]
  },
  {
   "cell_type": "code",
   "execution_count": 34,
   "id": "ef382147",
   "metadata": {
    "ExecuteTime": {
     "end_time": "2023-01-17T19:01:04.621270Z",
     "start_time": "2023-01-17T19:01:04.606965Z"
    }
   },
   "outputs": [
    {
     "data": {
      "text/plain": [
       "-1.3333333333333333"
      ]
     },
     "execution_count": 34,
     "metadata": {},
     "output_type": "execute_result"
    }
   ],
   "source": [
    "#B.\n",
    "\n",
    "x3 = 30\n",
    "\n",
    "z3 = (x3 - mean )/std\n",
    "z3"
   ]
  },
  {
   "cell_type": "code",
   "execution_count": 35,
   "id": "5529e36f",
   "metadata": {
    "ExecuteTime": {
     "end_time": "2023-01-17T19:01:24.713969Z",
     "start_time": "2023-01-17T19:01:24.696920Z"
    }
   },
   "outputs": [
    {
     "data": {
      "text/plain": [
       "0.09121121972586788"
      ]
     },
     "execution_count": 35,
     "metadata": {},
     "output_type": "execute_result"
    }
   ],
   "source": [
    "# < 30\n",
    "\n",
    "stats.norm.cdf(z3)"
   ]
  },
  {
   "cell_type": "markdown",
   "id": "a048fa1c",
   "metadata": {},
   "source": [
    "* 9% probability that the employees are under the age of 30."
   ]
  },
  {
   "cell_type": "code",
   "execution_count": 38,
   "id": "7c9af597",
   "metadata": {
    "ExecuteTime": {
     "end_time": "2023-01-17T19:03:55.355124Z",
     "start_time": "2023-01-17T19:03:55.333702Z"
    }
   },
   "outputs": [
    {
     "data": {
      "text/plain": [
       "36.0"
      ]
     },
     "execution_count": 38,
     "metadata": {},
     "output_type": "execute_result"
    }
   ],
   "source": [
    "# 9% of total employees = No. of employees under 30\n",
    "\n",
    "(9/100)*400\n"
   ]
  },
  {
   "cell_type": "markdown",
   "id": "df926d1d",
   "metadata": {},
   "source": [
    "* Based on this calculation, we can conclude that statement B is true"
   ]
  },
  {
   "cell_type": "markdown",
   "id": "d599d6d7",
   "metadata": {},
   "source": [
    "# Q5.\n",
    "\n",
    "### \tConsider a company that has two different divisions. The annual profits from the two divisions are independent and have distributions Profit1 ~ N(5, 3^2) and Profit2 ~ N(7, 4^2) respectively. Both the profits are in  Million Dollars.\n",
    "#### Answer the following questions about the total profit of the company in Rupees. Assume that 1 Dollar = Rs. 45\n",
    "\n",
    "* A.\tSpecify a Rupee range (centered on the mean) such that it contains 95% probability for the annual profit of the company.\n",
    "* B.\tSpecify the 5th percentile of profit (in Rupees) for the company\n",
    "* C.\tWhich of the two divisions has a larger probability of making a loss in a given year?\n"
   ]
  },
  {
   "cell_type": "code",
   "execution_count": 17,
   "id": "5c47427c",
   "metadata": {
    "ExecuteTime": {
     "end_time": "2023-01-20T08:37:57.780916Z",
     "start_time": "2023-01-20T08:37:57.776384Z"
    }
   },
   "outputs": [],
   "source": [
    "import math"
   ]
  },
  {
   "cell_type": "code",
   "execution_count": 18,
   "id": "d24ae805",
   "metadata": {
    "ExecuteTime": {
     "end_time": "2023-01-20T08:39:07.769002Z",
     "start_time": "2023-01-20T08:39:07.757370Z"
    }
   },
   "outputs": [],
   "source": [
    "Population_Mean1 = 5\n",
    "Population_var1 = 9\n",
    "Population_Mean2 = 7\n",
    "Population_var2 = 16"
   ]
  },
  {
   "cell_type": "code",
   "execution_count": 25,
   "id": "e24997c8",
   "metadata": {
    "ExecuteTime": {
     "end_time": "2023-01-20T08:44:00.963058Z",
     "start_time": "2023-01-20T08:44:00.945217Z"
    }
   },
   "outputs": [
    {
     "data": {
      "text/plain": [
       "540"
      ]
     },
     "execution_count": 25,
     "metadata": {},
     "output_type": "execute_result"
    }
   ],
   "source": [
    "Population_Mean = Population_Mean1 + Population_Mean2\n",
    "Population_Mean = Population_Mean*45\n",
    "Population_Mean"
   ]
  },
  {
   "cell_type": "code",
   "execution_count": 19,
   "id": "cb3e3a81",
   "metadata": {
    "ExecuteTime": {
     "end_time": "2023-01-20T08:39:32.985671Z",
     "start_time": "2023-01-20T08:39:32.972352Z"
    }
   },
   "outputs": [
    {
     "data": {
      "text/plain": [
       "25"
      ]
     },
     "execution_count": 19,
     "metadata": {},
     "output_type": "execute_result"
    }
   ],
   "source": [
    "Population_var = Population_var1 +Population_var2\n",
    "Population_var"
   ]
  },
  {
   "cell_type": "code",
   "execution_count": 32,
   "id": "3fdf8c3b",
   "metadata": {
    "ExecuteTime": {
     "end_time": "2023-01-20T08:54:34.487671Z",
     "start_time": "2023-01-20T08:54:34.467891Z"
    }
   },
   "outputs": [
    {
     "data": {
      "text/plain": [
       "225.0"
      ]
     },
     "execution_count": 32,
     "metadata": {},
     "output_type": "execute_result"
    }
   ],
   "source": [
    "\n",
    "Population_std = np.sqrt(Population_var)\n",
    "Population_std = Population_std*45\n",
    "Population_std"
   ]
  },
  {
   "cell_type": "code",
   "execution_count": 8,
   "id": "51e81a70",
   "metadata": {
    "ExecuteTime": {
     "end_time": "2023-01-20T08:14:17.973570Z",
     "start_time": "2023-01-20T08:14:17.965430Z"
    }
   },
   "outputs": [],
   "source": [
    "#A.\n",
    "\n",
    "probability = 0.95\n",
    "alpha = 0.05"
   ]
  },
  {
   "cell_type": "code",
   "execution_count": 9,
   "id": "8b506518",
   "metadata": {
    "ExecuteTime": {
     "end_time": "2023-01-20T08:15:05.476562Z",
     "start_time": "2023-01-20T08:15:05.460224Z"
    }
   },
   "outputs": [
    {
     "data": {
      "text/plain": [
       "1.959963984540054"
      ]
     },
     "execution_count": 9,
     "metadata": {},
     "output_type": "execute_result"
    }
   ],
   "source": [
    "#zscore\n",
    "\n",
    "stats.norm.ppf(0.975)"
   ]
  },
  {
   "cell_type": "code",
   "execution_count": 27,
   "id": "0c7ab319",
   "metadata": {
    "ExecuteTime": {
     "end_time": "2023-01-20T08:44:37.400032Z",
     "start_time": "2023-01-20T08:44:37.384999Z"
    }
   },
   "outputs": [
    {
     "data": {
      "text/plain": [
       "(99.00810347848784, 980.9918965215122)"
      ]
     },
     "execution_count": 27,
     "metadata": {},
     "output_type": "execute_result"
    }
   ],
   "source": [
    "Interval_Estimate = stats.norm.interval(0.95,Population_Mean,Population_std)\n",
    "Interval_Estimate"
   ]
  },
  {
   "cell_type": "code",
   "execution_count": 29,
   "id": "e58d65bd",
   "metadata": {
    "ExecuteTime": {
     "end_time": "2023-01-20T08:51:51.301427Z",
     "start_time": "2023-01-20T08:51:51.291776Z"
    }
   },
   "outputs": [
    {
     "data": {
      "text/plain": [
       "1.6448536269514722"
      ]
     },
     "execution_count": 29,
     "metadata": {},
     "output_type": "execute_result"
    }
   ],
   "source": [
    "#B.\n",
    "\n",
    "Zscore = stats.norm.ppf(0.95)\n",
    "Zscore"
   ]
  },
  {
   "cell_type": "code",
   "execution_count": 30,
   "id": "ccdae237",
   "metadata": {
    "ExecuteTime": {
     "end_time": "2023-01-20T08:52:27.382953Z",
     "start_time": "2023-01-20T08:52:27.371624Z"
    }
   },
   "outputs": [
    {
     "data": {
      "text/plain": [
       "910.0920660640812"
      ]
     },
     "execution_count": 30,
     "metadata": {},
     "output_type": "execute_result"
    }
   ],
   "source": [
    "X = (Zscore*Population_std) + Population_Mean\n",
    "X"
   ]
  },
  {
   "cell_type": "code",
   "execution_count": 35,
   "id": "f93b1953",
   "metadata": {
    "ExecuteTime": {
     "end_time": "2023-01-20T08:57:12.192860Z",
     "start_time": "2023-01-20T08:57:12.175682Z"
    }
   },
   "outputs": [],
   "source": [
    "#C.probability of making a loss in a given yearP(X<0)"
   ]
  },
  {
   "cell_type": "code",
   "execution_count": 39,
   "id": "4c426db0",
   "metadata": {
    "ExecuteTime": {
     "end_time": "2023-01-20T09:01:57.483706Z",
     "start_time": "2023-01-20T09:01:57.466915Z"
    }
   },
   "outputs": [
    {
     "data": {
      "text/plain": [
       "225"
      ]
     },
     "execution_count": 39,
     "metadata": {},
     "output_type": "execute_result"
    }
   ],
   "source": [
    "Population_Mean1 = Population_Mean1*45\n",
    "Population_Mean1"
   ]
  },
  {
   "cell_type": "code",
   "execution_count": 40,
   "id": "7e06caba",
   "metadata": {
    "ExecuteTime": {
     "end_time": "2023-01-20T09:02:23.869877Z",
     "start_time": "2023-01-20T09:02:23.857017Z"
    }
   },
   "outputs": [
    {
     "data": {
      "text/plain": [
       "315"
      ]
     },
     "execution_count": 40,
     "metadata": {},
     "output_type": "execute_result"
    }
   ],
   "source": [
    "Population_Mean2 = Population_Mean2*45\n",
    "Population_Mean2"
   ]
  },
  {
   "cell_type": "code",
   "execution_count": 43,
   "id": "4adca7f3",
   "metadata": {
    "ExecuteTime": {
     "end_time": "2023-01-20T09:03:22.371998Z",
     "start_time": "2023-01-20T09:03:22.356472Z"
    }
   },
   "outputs": [
    {
     "data": {
      "text/plain": [
       "135.0"
      ]
     },
     "execution_count": 43,
     "metadata": {},
     "output_type": "execute_result"
    }
   ],
   "source": [
    "Population_std1 = np.sqrt(Population_var1)\n",
    "Population_std1 = Population_std1*45\n",
    "Population_std1"
   ]
  },
  {
   "cell_type": "code",
   "execution_count": 44,
   "id": "fd9844e2",
   "metadata": {
    "ExecuteTime": {
     "end_time": "2023-01-20T09:03:37.697417Z",
     "start_time": "2023-01-20T09:03:37.682774Z"
    }
   },
   "outputs": [
    {
     "data": {
      "text/plain": [
       "180.0"
      ]
     },
     "execution_count": 44,
     "metadata": {},
     "output_type": "execute_result"
    }
   ],
   "source": [
    "Population_std2 = np.sqrt(Population_var2)\n",
    "Population_std2 = Population_std2*45\n",
    "Population_std2"
   ]
  },
  {
   "cell_type": "code",
   "execution_count": 45,
   "id": "c4945de2",
   "metadata": {
    "ExecuteTime": {
     "end_time": "2023-01-20T09:03:53.152510Z",
     "start_time": "2023-01-20T09:03:53.138231Z"
    }
   },
   "outputs": [
    {
     "data": {
      "text/plain": [
       "0.0477903522728147"
      ]
     },
     "execution_count": 45,
     "metadata": {},
     "output_type": "execute_result"
    }
   ],
   "source": [
    "#Division1 \n",
    "\n",
    "stats.norm.cdf(0,Population_Mean1,Population_std1)"
   ]
  },
  {
   "cell_type": "code",
   "execution_count": 46,
   "id": "ba5c7c6b",
   "metadata": {
    "ExecuteTime": {
     "end_time": "2023-01-20T09:03:59.045925Z",
     "start_time": "2023-01-20T09:03:59.022497Z"
    }
   },
   "outputs": [
    {
     "data": {
      "text/plain": [
       "0.040059156863817086"
      ]
     },
     "execution_count": 46,
     "metadata": {},
     "output_type": "execute_result"
    }
   ],
   "source": [
    "#Division2\n",
    "\n",
    "stats.norm.cdf(-0,Population_Mean2,Population_std2)"
   ]
  },
  {
   "cell_type": "markdown",
   "id": "64182d6c",
   "metadata": {},
   "source": [
    "* Division 1 has larger probability of making a loss in a given yearP(X<0) "
   ]
  },
  {
   "cell_type": "markdown",
   "id": "b2569cbd",
   "metadata": {},
   "source": [
    "# Set 4"
   ]
  },
  {
   "cell_type": "markdown",
   "id": "978e4bf4",
   "metadata": {},
   "source": [
    "# Q3."
   ]
  },
  {
   "cell_type": "markdown",
   "id": "5fbbb073",
   "metadata": {},
   "source": [
    "### Auditors at a small community bank randomly sample 100 withdrawal transactions made during the week at an ATM machine located near the bank’s main branch. Over the past 2 years, the average withdrawal amount has been 50dollars with a standard deviation of 40dollars. Since audit investigations are typically expensive, the auditors decide to not initiate further investigations if the mean transaction amount of the sample is between 45dollars and 55dollars. What is the probability that in any given week, there will be an investigation?"
   ]
  },
  {
   "cell_type": "code",
   "execution_count": 4,
   "id": "74599bca",
   "metadata": {
    "ExecuteTime": {
     "end_time": "2023-01-23T08:31:41.023702Z",
     "start_time": "2023-01-23T08:31:41.012247Z"
    }
   },
   "outputs": [],
   "source": [
    "mean = 50\n",
    "std = 40\n",
    "n = 100"
   ]
  },
  {
   "cell_type": "code",
   "execution_count": 13,
   "id": "a88c9324",
   "metadata": {
    "ExecuteTime": {
     "end_time": "2023-01-23T08:34:36.037501Z",
     "start_time": "2023-01-23T08:34:36.023595Z"
    }
   },
   "outputs": [
    {
     "data": {
      "text/plain": [
       "-1.25"
      ]
     },
     "execution_count": 13,
     "metadata": {},
     "output_type": "execute_result"
    }
   ],
   "source": [
    "#>45\n",
    "x = 45\n",
    "z = (x-mean)/(std/np.sqrt(n))\n",
    "z"
   ]
  },
  {
   "cell_type": "code",
   "execution_count": 9,
   "id": "f9dc26bc",
   "metadata": {
    "ExecuteTime": {
     "end_time": "2023-01-23T08:33:23.141561Z",
     "start_time": "2023-01-23T08:33:23.125978Z"
    }
   },
   "outputs": [
    {
     "data": {
      "text/plain": [
       "0.10564977366685535"
      ]
     },
     "execution_count": 9,
     "metadata": {},
     "output_type": "execute_result"
    }
   ],
   "source": [
    "stats.norm.cdf(z)"
   ]
  },
  {
   "cell_type": "code",
   "execution_count": 11,
   "id": "1e578b68",
   "metadata": {
    "ExecuteTime": {
     "end_time": "2023-01-23T08:33:41.472462Z",
     "start_time": "2023-01-23T08:33:41.458996Z"
    }
   },
   "outputs": [
    {
     "data": {
      "text/plain": [
       "1.25"
      ]
     },
     "execution_count": 11,
     "metadata": {},
     "output_type": "execute_result"
    }
   ],
   "source": [
    "#<55\n",
    "x1 = 55\n",
    "z1 = (x1 - mean)/(std/np.sqrt(n))\n",
    "z1"
   ]
  },
  {
   "cell_type": "code",
   "execution_count": 12,
   "id": "797528df",
   "metadata": {
    "ExecuteTime": {
     "end_time": "2023-01-23T08:33:53.157173Z",
     "start_time": "2023-01-23T08:33:53.149606Z"
    }
   },
   "outputs": [
    {
     "data": {
      "text/plain": [
       "0.8943502263331446"
      ]
     },
     "execution_count": 12,
     "metadata": {},
     "output_type": "execute_result"
    }
   ],
   "source": [
    "stats.norm.cdf(z1)"
   ]
  },
  {
   "cell_type": "code",
   "execution_count": 15,
   "id": "d5092538",
   "metadata": {
    "ExecuteTime": {
     "end_time": "2023-01-23T08:36:28.458808Z",
     "start_time": "2023-01-23T08:36:28.451394Z"
    }
   },
   "outputs": [
    {
     "data": {
      "text/plain": [
       "0.7887004526662893"
      ]
     },
     "execution_count": 15,
     "metadata": {},
     "output_type": "execute_result"
    }
   ],
   "source": [
    "stats.norm.cdf(z1) - stats.norm.cdf(z)"
   ]
  },
  {
   "cell_type": "markdown",
   "id": "da000a48",
   "metadata": {},
   "source": [
    "* Auditors decide to not initiate further investigations if the mean transaction amount of the sample is between $45 and $55. The probability the mean transaction amount of the sample is between $45 and $55 is 78.8%"
   ]
  },
  {
   "cell_type": "code",
   "execution_count": 16,
   "id": "d55abbbf",
   "metadata": {
    "ExecuteTime": {
     "end_time": "2023-01-23T08:39:17.125346Z",
     "start_time": "2023-01-23T08:39:17.105110Z"
    }
   },
   "outputs": [
    {
     "data": {
      "text/plain": [
       "0.2112995473337107"
      ]
     },
     "execution_count": 16,
     "metadata": {},
     "output_type": "execute_result"
    }
   ],
   "source": [
    "1 - (stats.norm.cdf(z1) - stats.norm.cdf(z))"
   ]
  },
  {
   "cell_type": "markdown",
   "id": "5cdd04e4",
   "metadata": {},
   "source": [
    "* The probability that in any given week, there will be an investigation is 21.12%"
   ]
  },
  {
   "cell_type": "code",
   "execution_count": null,
   "id": "68cc9764",
   "metadata": {},
   "outputs": [],
   "source": []
  }
 ],
 "metadata": {
  "kernelspec": {
   "display_name": "Python 3 (ipykernel)",
   "language": "python",
   "name": "python3"
  },
  "language_info": {
   "codemirror_mode": {
    "name": "ipython",
    "version": 3
   },
   "file_extension": ".py",
   "mimetype": "text/x-python",
   "name": "python",
   "nbconvert_exporter": "python",
   "pygments_lexer": "ipython3",
   "version": "3.9.7"
  }
 },
 "nbformat": 4,
 "nbformat_minor": 5
}
