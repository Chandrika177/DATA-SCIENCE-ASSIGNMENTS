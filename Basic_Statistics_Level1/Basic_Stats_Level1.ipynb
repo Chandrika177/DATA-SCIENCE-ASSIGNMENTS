{
 "cells": [
  {
   "cell_type": "markdown",
   "id": "f0d37cb4",
   "metadata": {},
   "source": [
    "# Q7. \n",
    "\n",
    "  ###  -For Points,Score,Weigh>  Find Mean, Median, Mode, Variance, Standard Deviation, and Range "
   ]
  },
  {
   "cell_type": "code",
   "execution_count": 1,
   "id": "11d8db4c",
   "metadata": {
    "ExecuteTime": {
     "end_time": "2023-01-23T07:46:06.146873Z",
     "start_time": "2023-01-23T07:45:58.658211Z"
    }
   },
   "outputs": [],
   "source": [
    "import pandas as pd\n",
    "import numpy as np\n",
    "import matplotlib.pyplot as plt \n",
    "import seaborn as sns"
   ]
  },
  {
   "cell_type": "code",
   "execution_count": 3,
   "id": "ee523098",
   "metadata": {
    "ExecuteTime": {
     "end_time": "2023-01-15T18:38:45.350338Z",
     "start_time": "2023-01-15T18:38:45.320376Z"
    }
   },
   "outputs": [],
   "source": [
    "df = pd.read_csv(\"Q7.csv\")"
   ]
  },
  {
   "cell_type": "code",
   "execution_count": 4,
   "id": "40a7a49c",
   "metadata": {
    "ExecuteTime": {
     "end_time": "2023-01-15T18:38:52.201621Z",
     "start_time": "2023-01-15T18:38:52.152566Z"
    }
   },
   "outputs": [
    {
     "data": {
      "text/html": [
       "<div>\n",
       "<style scoped>\n",
       "    .dataframe tbody tr th:only-of-type {\n",
       "        vertical-align: middle;\n",
       "    }\n",
       "\n",
       "    .dataframe tbody tr th {\n",
       "        vertical-align: top;\n",
       "    }\n",
       "\n",
       "    .dataframe thead th {\n",
       "        text-align: right;\n",
       "    }\n",
       "</style>\n",
       "<table border=\"1\" class=\"dataframe\">\n",
       "  <thead>\n",
       "    <tr style=\"text-align: right;\">\n",
       "      <th></th>\n",
       "      <th>Unnamed: 0</th>\n",
       "      <th>Points</th>\n",
       "      <th>Score</th>\n",
       "      <th>Weigh</th>\n",
       "    </tr>\n",
       "  </thead>\n",
       "  <tbody>\n",
       "    <tr>\n",
       "      <th>0</th>\n",
       "      <td>Mazda RX4</td>\n",
       "      <td>3.90</td>\n",
       "      <td>2.620</td>\n",
       "      <td>16.46</td>\n",
       "    </tr>\n",
       "    <tr>\n",
       "      <th>1</th>\n",
       "      <td>Mazda RX4 Wag</td>\n",
       "      <td>3.90</td>\n",
       "      <td>2.875</td>\n",
       "      <td>17.02</td>\n",
       "    </tr>\n",
       "    <tr>\n",
       "      <th>2</th>\n",
       "      <td>Datsun 710</td>\n",
       "      <td>3.85</td>\n",
       "      <td>2.320</td>\n",
       "      <td>18.61</td>\n",
       "    </tr>\n",
       "    <tr>\n",
       "      <th>3</th>\n",
       "      <td>Hornet 4 Drive</td>\n",
       "      <td>3.08</td>\n",
       "      <td>3.215</td>\n",
       "      <td>19.44</td>\n",
       "    </tr>\n",
       "    <tr>\n",
       "      <th>4</th>\n",
       "      <td>Hornet Sportabout</td>\n",
       "      <td>3.15</td>\n",
       "      <td>3.440</td>\n",
       "      <td>17.02</td>\n",
       "    </tr>\n",
       "  </tbody>\n",
       "</table>\n",
       "</div>"
      ],
      "text/plain": [
       "          Unnamed: 0  Points  Score  Weigh\n",
       "0          Mazda RX4    3.90  2.620  16.46\n",
       "1      Mazda RX4 Wag    3.90  2.875  17.02\n",
       "2         Datsun 710    3.85  2.320  18.61\n",
       "3     Hornet 4 Drive    3.08  3.215  19.44\n",
       "4  Hornet Sportabout    3.15  3.440  17.02"
      ]
     },
     "execution_count": 4,
     "metadata": {},
     "output_type": "execute_result"
    }
   ],
   "source": [
    "df.head()"
   ]
  },
  {
   "cell_type": "code",
   "execution_count": 6,
   "id": "0bb93fca",
   "metadata": {
    "ExecuteTime": {
     "end_time": "2023-01-15T18:40:55.372492Z",
     "start_time": "2023-01-15T18:40:55.364009Z"
    }
   },
   "outputs": [],
   "source": [
    "#Mean"
   ]
  },
  {
   "cell_type": "code",
   "execution_count": 7,
   "id": "d57d439f",
   "metadata": {
    "ExecuteTime": {
     "end_time": "2023-01-15T18:40:59.037896Z",
     "start_time": "2023-01-15T18:40:59.020729Z"
    }
   },
   "outputs": [
    {
     "data": {
      "text/plain": [
       "3.5965625000000006"
      ]
     },
     "execution_count": 7,
     "metadata": {},
     "output_type": "execute_result"
    }
   ],
   "source": [
    "df['Points'].mean()"
   ]
  },
  {
   "cell_type": "code",
   "execution_count": 8,
   "id": "9c24ecc9",
   "metadata": {
    "ExecuteTime": {
     "end_time": "2023-01-15T18:41:10.766725Z",
     "start_time": "2023-01-15T18:41:10.753774Z"
    }
   },
   "outputs": [
    {
     "data": {
      "text/plain": [
       "3.2172499999999995"
      ]
     },
     "execution_count": 8,
     "metadata": {},
     "output_type": "execute_result"
    }
   ],
   "source": [
    "df['Score'].mean()"
   ]
  },
  {
   "cell_type": "code",
   "execution_count": 9,
   "id": "7769493d",
   "metadata": {
    "ExecuteTime": {
     "end_time": "2023-01-15T18:42:02.086816Z",
     "start_time": "2023-01-15T18:42:02.071808Z"
    }
   },
   "outputs": [
    {
     "data": {
      "text/plain": [
       "17.848750000000003"
      ]
     },
     "execution_count": 9,
     "metadata": {},
     "output_type": "execute_result"
    }
   ],
   "source": [
    "df['Weigh'].mean()"
   ]
  },
  {
   "cell_type": "code",
   "execution_count": 10,
   "id": "b1a0eda3",
   "metadata": {
    "ExecuteTime": {
     "end_time": "2023-01-15T18:42:13.078941Z",
     "start_time": "2023-01-15T18:42:13.064902Z"
    }
   },
   "outputs": [],
   "source": [
    "#Median"
   ]
  },
  {
   "cell_type": "code",
   "execution_count": 11,
   "id": "19315432",
   "metadata": {
    "ExecuteTime": {
     "end_time": "2023-01-15T18:42:22.928288Z",
     "start_time": "2023-01-15T18:42:22.915378Z"
    }
   },
   "outputs": [
    {
     "data": {
      "text/plain": [
       "3.6950000000000003"
      ]
     },
     "execution_count": 11,
     "metadata": {},
     "output_type": "execute_result"
    }
   ],
   "source": [
    "df['Points'].median()"
   ]
  },
  {
   "cell_type": "code",
   "execution_count": 12,
   "id": "8ea31077",
   "metadata": {
    "ExecuteTime": {
     "end_time": "2023-01-15T18:42:41.193501Z",
     "start_time": "2023-01-15T18:42:41.184690Z"
    }
   },
   "outputs": [
    {
     "data": {
      "text/plain": [
       "3.325"
      ]
     },
     "execution_count": 12,
     "metadata": {},
     "output_type": "execute_result"
    }
   ],
   "source": [
    "df['Score'].median()"
   ]
  },
  {
   "cell_type": "code",
   "execution_count": 13,
   "id": "09087fd7",
   "metadata": {
    "ExecuteTime": {
     "end_time": "2023-01-15T18:42:57.934074Z",
     "start_time": "2023-01-15T18:42:57.917452Z"
    }
   },
   "outputs": [
    {
     "data": {
      "text/plain": [
       "17.71"
      ]
     },
     "execution_count": 13,
     "metadata": {},
     "output_type": "execute_result"
    }
   ],
   "source": [
    "df['Weigh'].median()"
   ]
  },
  {
   "cell_type": "code",
   "execution_count": 16,
   "id": "2565bf55",
   "metadata": {
    "ExecuteTime": {
     "end_time": "2023-01-15T18:45:55.835280Z",
     "start_time": "2023-01-15T18:45:55.826057Z"
    }
   },
   "outputs": [],
   "source": [
    "#Mode"
   ]
  },
  {
   "cell_type": "code",
   "execution_count": 17,
   "id": "a3f4f63d",
   "metadata": {
    "ExecuteTime": {
     "end_time": "2023-01-15T18:46:11.956834Z",
     "start_time": "2023-01-15T18:46:11.943441Z"
    }
   },
   "outputs": [
    {
     "data": {
      "text/plain": [
       "0    3.07\n",
       "1    3.92\n",
       "dtype: float64"
      ]
     },
     "execution_count": 17,
     "metadata": {},
     "output_type": "execute_result"
    }
   ],
   "source": [
    "df['Points'].mode()"
   ]
  },
  {
   "cell_type": "code",
   "execution_count": 18,
   "id": "d77035cd",
   "metadata": {
    "ExecuteTime": {
     "end_time": "2023-01-15T18:47:15.784809Z",
     "start_time": "2023-01-15T18:47:15.761690Z"
    }
   },
   "outputs": [
    {
     "data": {
      "text/plain": [
       "0    3.44\n",
       "dtype: float64"
      ]
     },
     "execution_count": 18,
     "metadata": {},
     "output_type": "execute_result"
    }
   ],
   "source": [
    "df['Score'].mode()"
   ]
  },
  {
   "cell_type": "code",
   "execution_count": 19,
   "id": "d3c9c416",
   "metadata": {
    "ExecuteTime": {
     "end_time": "2023-01-15T18:47:25.656289Z",
     "start_time": "2023-01-15T18:47:25.636445Z"
    }
   },
   "outputs": [
    {
     "data": {
      "text/plain": [
       "0    17.02\n",
       "1    18.90\n",
       "dtype: float64"
      ]
     },
     "execution_count": 19,
     "metadata": {},
     "output_type": "execute_result"
    }
   ],
   "source": [
    "df['Weigh'].mode()"
   ]
  },
  {
   "cell_type": "code",
   "execution_count": 20,
   "id": "67947b13",
   "metadata": {
    "ExecuteTime": {
     "end_time": "2023-01-15T18:47:50.377292Z",
     "start_time": "2023-01-15T18:47:50.360661Z"
    }
   },
   "outputs": [],
   "source": [
    "#Variance"
   ]
  },
  {
   "cell_type": "code",
   "execution_count": 21,
   "id": "7fe54dd8",
   "metadata": {
    "ExecuteTime": {
     "end_time": "2023-01-15T18:48:04.305115Z",
     "start_time": "2023-01-15T18:48:04.288455Z"
    }
   },
   "outputs": [
    {
     "data": {
      "text/plain": [
       "0.28588135080645166"
      ]
     },
     "execution_count": 21,
     "metadata": {},
     "output_type": "execute_result"
    }
   ],
   "source": [
    "df['Points'].var()"
   ]
  },
  {
   "cell_type": "code",
   "execution_count": 22,
   "id": "01ddfaff",
   "metadata": {
    "ExecuteTime": {
     "end_time": "2023-01-15T18:48:15.213719Z",
     "start_time": "2023-01-15T18:48:15.201120Z"
    }
   },
   "outputs": [
    {
     "data": {
      "text/plain": [
       "0.9573789677419356"
      ]
     },
     "execution_count": 22,
     "metadata": {},
     "output_type": "execute_result"
    }
   ],
   "source": [
    "df['Score'].var()"
   ]
  },
  {
   "cell_type": "code",
   "execution_count": 23,
   "id": "098c96eb",
   "metadata": {
    "ExecuteTime": {
     "end_time": "2023-01-15T18:48:27.682436Z",
     "start_time": "2023-01-15T18:48:27.676111Z"
    }
   },
   "outputs": [
    {
     "data": {
      "text/plain": [
       "3.193166129032258"
      ]
     },
     "execution_count": 23,
     "metadata": {},
     "output_type": "execute_result"
    }
   ],
   "source": [
    "df['Weigh'].var()"
   ]
  },
  {
   "cell_type": "code",
   "execution_count": 24,
   "id": "9754c5f5",
   "metadata": {
    "ExecuteTime": {
     "end_time": "2023-01-15T18:48:40.149342Z",
     "start_time": "2023-01-15T18:48:40.130283Z"
    }
   },
   "outputs": [],
   "source": [
    "#Standard Deviation"
   ]
  },
  {
   "cell_type": "code",
   "execution_count": 25,
   "id": "6f907dfd",
   "metadata": {
    "ExecuteTime": {
     "end_time": "2023-01-15T18:48:49.994795Z",
     "start_time": "2023-01-15T18:48:49.975337Z"
    }
   },
   "outputs": [
    {
     "data": {
      "text/plain": [
       "0.5346787360709716"
      ]
     },
     "execution_count": 25,
     "metadata": {},
     "output_type": "execute_result"
    }
   ],
   "source": [
    "df['Points'].std()"
   ]
  },
  {
   "cell_type": "code",
   "execution_count": 26,
   "id": "d102d07a",
   "metadata": {
    "ExecuteTime": {
     "end_time": "2023-01-15T18:49:12.001426Z",
     "start_time": "2023-01-15T18:49:11.994856Z"
    }
   },
   "outputs": [
    {
     "data": {
      "text/plain": [
       "0.9784574429896967"
      ]
     },
     "execution_count": 26,
     "metadata": {},
     "output_type": "execute_result"
    }
   ],
   "source": [
    "df['Score'].std()"
   ]
  },
  {
   "cell_type": "code",
   "execution_count": 27,
   "id": "0383c01e",
   "metadata": {
    "ExecuteTime": {
     "end_time": "2023-01-15T18:49:35.825249Z",
     "start_time": "2023-01-15T18:49:35.807733Z"
    }
   },
   "outputs": [
    {
     "data": {
      "text/plain": [
       "1.7869432360968431"
      ]
     },
     "execution_count": 27,
     "metadata": {},
     "output_type": "execute_result"
    }
   ],
   "source": [
    "df['Weigh'].std()"
   ]
  },
  {
   "cell_type": "code",
   "execution_count": 30,
   "id": "681d8f93",
   "metadata": {
    "ExecuteTime": {
     "end_time": "2023-01-15T18:50:37.363037Z",
     "start_time": "2023-01-15T18:50:37.313883Z"
    }
   },
   "outputs": [
    {
     "data": {
      "text/html": [
       "<div>\n",
       "<style scoped>\n",
       "    .dataframe tbody tr th:only-of-type {\n",
       "        vertical-align: middle;\n",
       "    }\n",
       "\n",
       "    .dataframe tbody tr th {\n",
       "        vertical-align: top;\n",
       "    }\n",
       "\n",
       "    .dataframe thead th {\n",
       "        text-align: right;\n",
       "    }\n",
       "</style>\n",
       "<table border=\"1\" class=\"dataframe\">\n",
       "  <thead>\n",
       "    <tr style=\"text-align: right;\">\n",
       "      <th></th>\n",
       "      <th>Points</th>\n",
       "      <th>Score</th>\n",
       "      <th>Weigh</th>\n",
       "    </tr>\n",
       "  </thead>\n",
       "  <tbody>\n",
       "    <tr>\n",
       "      <th>count</th>\n",
       "      <td>32.000000</td>\n",
       "      <td>32.000000</td>\n",
       "      <td>32.000000</td>\n",
       "    </tr>\n",
       "    <tr>\n",
       "      <th>mean</th>\n",
       "      <td>3.596563</td>\n",
       "      <td>3.217250</td>\n",
       "      <td>17.848750</td>\n",
       "    </tr>\n",
       "    <tr>\n",
       "      <th>std</th>\n",
       "      <td>0.534679</td>\n",
       "      <td>0.978457</td>\n",
       "      <td>1.786943</td>\n",
       "    </tr>\n",
       "    <tr>\n",
       "      <th>min</th>\n",
       "      <td>2.760000</td>\n",
       "      <td>1.513000</td>\n",
       "      <td>14.500000</td>\n",
       "    </tr>\n",
       "    <tr>\n",
       "      <th>25%</th>\n",
       "      <td>3.080000</td>\n",
       "      <td>2.581250</td>\n",
       "      <td>16.892500</td>\n",
       "    </tr>\n",
       "    <tr>\n",
       "      <th>50%</th>\n",
       "      <td>3.695000</td>\n",
       "      <td>3.325000</td>\n",
       "      <td>17.710000</td>\n",
       "    </tr>\n",
       "    <tr>\n",
       "      <th>75%</th>\n",
       "      <td>3.920000</td>\n",
       "      <td>3.610000</td>\n",
       "      <td>18.900000</td>\n",
       "    </tr>\n",
       "    <tr>\n",
       "      <th>max</th>\n",
       "      <td>4.930000</td>\n",
       "      <td>5.424000</td>\n",
       "      <td>22.900000</td>\n",
       "    </tr>\n",
       "  </tbody>\n",
       "</table>\n",
       "</div>"
      ],
      "text/plain": [
       "          Points      Score      Weigh\n",
       "count  32.000000  32.000000  32.000000\n",
       "mean    3.596563   3.217250  17.848750\n",
       "std     0.534679   0.978457   1.786943\n",
       "min     2.760000   1.513000  14.500000\n",
       "25%     3.080000   2.581250  16.892500\n",
       "50%     3.695000   3.325000  17.710000\n",
       "75%     3.920000   3.610000  18.900000\n",
       "max     4.930000   5.424000  22.900000"
      ]
     },
     "execution_count": 30,
     "metadata": {},
     "output_type": "execute_result"
    }
   ],
   "source": [
    "df.describe()"
   ]
  },
  {
   "cell_type": "code",
   "execution_count": 34,
   "id": "0e2e3042",
   "metadata": {
    "ExecuteTime": {
     "end_time": "2023-01-15T19:00:29.791240Z",
     "start_time": "2023-01-15T19:00:29.774816Z"
    }
   },
   "outputs": [
    {
     "data": {
      "text/plain": [
       "2.17"
      ]
     },
     "execution_count": 34,
     "metadata": {},
     "output_type": "execute_result"
    }
   ],
   "source": [
    "#Range\n",
    "\n",
    "df['Points'].max() - df['Points'].min()"
   ]
  },
  {
   "cell_type": "code",
   "execution_count": 35,
   "id": "02a00dab",
   "metadata": {
    "ExecuteTime": {
     "end_time": "2023-01-15T19:01:02.611175Z",
     "start_time": "2023-01-15T19:01:02.600137Z"
    }
   },
   "outputs": [
    {
     "data": {
      "text/plain": [
       "3.9110000000000005"
      ]
     },
     "execution_count": 35,
     "metadata": {},
     "output_type": "execute_result"
    }
   ],
   "source": [
    "df['Score'].max() - df['Score'].min()"
   ]
  },
  {
   "cell_type": "code",
   "execution_count": 36,
   "id": "e8d09b40",
   "metadata": {
    "ExecuteTime": {
     "end_time": "2023-01-15T19:01:23.710286Z",
     "start_time": "2023-01-15T19:01:23.694336Z"
    }
   },
   "outputs": [
    {
     "data": {
      "text/plain": [
       "8.399999999999999"
      ]
     },
     "execution_count": 36,
     "metadata": {},
     "output_type": "execute_result"
    }
   ],
   "source": [
    "df['Weigh'].max() - df['Weigh'].min()"
   ]
  },
  {
   "cell_type": "markdown",
   "id": "43a9b118",
   "metadata": {},
   "source": [
    "# Q9. \n",
    "\n",
    "### Calculate Skewness, Kurtosis & draw inferences on the following cars data "
   ]
  },
  {
   "cell_type": "code",
   "execution_count": 48,
   "id": "7698c430",
   "metadata": {
    "ExecuteTime": {
     "end_time": "2023-01-16T10:52:05.862247Z",
     "start_time": "2023-01-16T10:52:05.830720Z"
    }
   },
   "outputs": [],
   "source": [
    "df1 = pd.read_csv('Q9_a.csv',index_col= 0)"
   ]
  },
  {
   "cell_type": "code",
   "execution_count": 48,
   "id": "432cf23c",
   "metadata": {
    "ExecuteTime": {
     "end_time": "2023-01-15T19:16:43.745782Z",
     "start_time": "2023-01-15T19:16:43.724294Z"
    }
   },
   "outputs": [
    {
     "data": {
      "text/html": [
       "<div>\n",
       "<style scoped>\n",
       "    .dataframe tbody tr th:only-of-type {\n",
       "        vertical-align: middle;\n",
       "    }\n",
       "\n",
       "    .dataframe tbody tr th {\n",
       "        vertical-align: top;\n",
       "    }\n",
       "\n",
       "    .dataframe thead th {\n",
       "        text-align: right;\n",
       "    }\n",
       "</style>\n",
       "<table border=\"1\" class=\"dataframe\">\n",
       "  <thead>\n",
       "    <tr style=\"text-align: right;\">\n",
       "      <th></th>\n",
       "      <th>speed</th>\n",
       "      <th>dist</th>\n",
       "    </tr>\n",
       "    <tr>\n",
       "      <th>Index</th>\n",
       "      <th></th>\n",
       "      <th></th>\n",
       "    </tr>\n",
       "  </thead>\n",
       "  <tbody>\n",
       "    <tr>\n",
       "      <th>1</th>\n",
       "      <td>4</td>\n",
       "      <td>2</td>\n",
       "    </tr>\n",
       "    <tr>\n",
       "      <th>2</th>\n",
       "      <td>4</td>\n",
       "      <td>10</td>\n",
       "    </tr>\n",
       "    <tr>\n",
       "      <th>3</th>\n",
       "      <td>7</td>\n",
       "      <td>4</td>\n",
       "    </tr>\n",
       "    <tr>\n",
       "      <th>4</th>\n",
       "      <td>7</td>\n",
       "      <td>22</td>\n",
       "    </tr>\n",
       "    <tr>\n",
       "      <th>5</th>\n",
       "      <td>8</td>\n",
       "      <td>16</td>\n",
       "    </tr>\n",
       "  </tbody>\n",
       "</table>\n",
       "</div>"
      ],
      "text/plain": [
       "       speed  dist\n",
       "Index             \n",
       "1          4     2\n",
       "2          4    10\n",
       "3          7     4\n",
       "4          7    22\n",
       "5          8    16"
      ]
     },
     "execution_count": 48,
     "metadata": {},
     "output_type": "execute_result"
    }
   ],
   "source": [
    "df1.head()"
   ]
  },
  {
   "cell_type": "code",
   "execution_count": 49,
   "id": "78984847",
   "metadata": {
    "ExecuteTime": {
     "end_time": "2023-01-15T19:16:48.031715Z",
     "start_time": "2023-01-15T19:16:48.006611Z"
    }
   },
   "outputs": [
    {
     "data": {
      "text/plain": [
       "speed   -0.117510\n",
       "dist     0.806895\n",
       "dtype: float64"
      ]
     },
     "execution_count": 49,
     "metadata": {},
     "output_type": "execute_result"
    }
   ],
   "source": [
    "df1.skew()"
   ]
  },
  {
   "cell_type": "markdown",
   "id": "fbf3b9e9",
   "metadata": {},
   "source": [
    "* The Acceptable Range of skewness is -0.5 to +0.5\n",
    "* From the above problem, we can observe that dist col is positively skewed or right skewed i.e., the right side of the data has some outliers\n"
   ]
  },
  {
   "cell_type": "code",
   "execution_count": 50,
   "id": "99087b4a",
   "metadata": {
    "ExecuteTime": {
     "end_time": "2023-01-15T19:16:50.833438Z",
     "start_time": "2023-01-15T19:16:50.816374Z"
    }
   },
   "outputs": [
    {
     "data": {
      "text/plain": [
       "speed   -0.508994\n",
       "dist     0.405053\n",
       "dtype: float64"
      ]
     },
     "execution_count": 50,
     "metadata": {},
     "output_type": "execute_result"
    }
   ],
   "source": [
    "df1.kurtosis()"
   ]
  },
  {
   "cell_type": "code",
   "execution_count": 50,
   "id": "08df9ee0",
   "metadata": {
    "ExecuteTime": {
     "end_time": "2023-01-16T10:54:14.806135Z",
     "start_time": "2023-01-16T10:54:14.763380Z"
    }
   },
   "outputs": [],
   "source": [
    "df2 = pd.read_csv('Q9_b.csv',index_col=0)"
   ]
  },
  {
   "cell_type": "code",
   "execution_count": 54,
   "id": "60a8610e",
   "metadata": {
    "ExecuteTime": {
     "end_time": "2023-01-15T19:17:42.013885Z",
     "start_time": "2023-01-15T19:17:41.998327Z"
    }
   },
   "outputs": [
    {
     "data": {
      "text/html": [
       "<div>\n",
       "<style scoped>\n",
       "    .dataframe tbody tr th:only-of-type {\n",
       "        vertical-align: middle;\n",
       "    }\n",
       "\n",
       "    .dataframe tbody tr th {\n",
       "        vertical-align: top;\n",
       "    }\n",
       "\n",
       "    .dataframe thead th {\n",
       "        text-align: right;\n",
       "    }\n",
       "</style>\n",
       "<table border=\"1\" class=\"dataframe\">\n",
       "  <thead>\n",
       "    <tr style=\"text-align: right;\">\n",
       "      <th></th>\n",
       "      <th>SP</th>\n",
       "      <th>WT</th>\n",
       "    </tr>\n",
       "  </thead>\n",
       "  <tbody>\n",
       "    <tr>\n",
       "      <th>1</th>\n",
       "      <td>104.185353</td>\n",
       "      <td>28.762059</td>\n",
       "    </tr>\n",
       "    <tr>\n",
       "      <th>2</th>\n",
       "      <td>105.461264</td>\n",
       "      <td>30.466833</td>\n",
       "    </tr>\n",
       "    <tr>\n",
       "      <th>3</th>\n",
       "      <td>105.461264</td>\n",
       "      <td>30.193597</td>\n",
       "    </tr>\n",
       "    <tr>\n",
       "      <th>4</th>\n",
       "      <td>113.461264</td>\n",
       "      <td>30.632114</td>\n",
       "    </tr>\n",
       "    <tr>\n",
       "      <th>5</th>\n",
       "      <td>104.461264</td>\n",
       "      <td>29.889149</td>\n",
       "    </tr>\n",
       "  </tbody>\n",
       "</table>\n",
       "</div>"
      ],
      "text/plain": [
       "           SP         WT\n",
       "1  104.185353  28.762059\n",
       "2  105.461264  30.466833\n",
       "3  105.461264  30.193597\n",
       "4  113.461264  30.632114\n",
       "5  104.461264  29.889149"
      ]
     },
     "execution_count": 54,
     "metadata": {},
     "output_type": "execute_result"
    }
   ],
   "source": [
    "df2.head()"
   ]
  },
  {
   "cell_type": "code",
   "execution_count": 55,
   "id": "69de2bd9",
   "metadata": {
    "ExecuteTime": {
     "end_time": "2023-01-15T19:17:54.785957Z",
     "start_time": "2023-01-15T19:17:54.760663Z"
    }
   },
   "outputs": [
    {
     "data": {
      "text/plain": [
       "SP    1.611450\n",
       "WT   -0.614753\n",
       "dtype: float64"
      ]
     },
     "execution_count": 55,
     "metadata": {},
     "output_type": "execute_result"
    }
   ],
   "source": [
    "df2.skew()"
   ]
  },
  {
   "cell_type": "markdown",
   "id": "24670712",
   "metadata": {},
   "source": [
    "* From the above problem, we can observe that SP col is positively skewed or right skewed i.e., the right side of the data has some outliers and WT col is negatively skewed or left skewed i.e., the left side of the data has some outliers"
   ]
  },
  {
   "cell_type": "code",
   "execution_count": 56,
   "id": "279643c1",
   "metadata": {
    "ExecuteTime": {
     "end_time": "2023-01-15T19:18:02.648312Z",
     "start_time": "2023-01-15T19:18:02.631613Z"
    }
   },
   "outputs": [
    {
     "data": {
      "text/plain": [
       "SP    2.977329\n",
       "WT    0.950291\n",
       "dtype: float64"
      ]
     },
     "execution_count": 56,
     "metadata": {},
     "output_type": "execute_result"
    }
   ],
   "source": [
    "df2.kurtosis()"
   ]
  },
  {
   "cell_type": "markdown",
   "id": "5f2b79ea",
   "metadata": {},
   "source": [
    "# Q11.\n",
    "\n",
    "###  Suppose we want to estimate the average weight of an adult male in    Mexico. We draw a random sample of 2,000 men from a population of 3,000,000 men and weigh them. We find that the average person in our sample weighs 200 pounds, and the standard deviation of the sample is 30 pounds. Calculate 94%,98%,96% confidence interval?"
   ]
  },
  {
   "cell_type": "code",
   "execution_count": 2,
   "id": "c5932bca",
   "metadata": {
    "ExecuteTime": {
     "end_time": "2023-01-23T07:46:14.100921Z",
     "start_time": "2023-01-23T07:46:14.090015Z"
    }
   },
   "outputs": [],
   "source": [
    "from scipy import stats\n",
    "import math"
   ]
  },
  {
   "cell_type": "code",
   "execution_count": 20,
   "id": "2da51b5e",
   "metadata": {
    "ExecuteTime": {
     "end_time": "2023-01-16T10:13:09.300605Z",
     "start_time": "2023-01-16T10:13:09.291584Z"
    }
   },
   "outputs": [],
   "source": [
    "N = 2000\n",
    "df = 1999\n",
    "sample_mean = 200\n",
    "sample_std = 30"
   ]
  },
  {
   "cell_type": "code",
   "execution_count": 24,
   "id": "e904a8b4",
   "metadata": {
    "ExecuteTime": {
     "end_time": "2023-01-16T10:17:08.961890Z",
     "start_time": "2023-01-16T10:17:08.945968Z"
    }
   },
   "outputs": [
    {
     "data": {
      "text/plain": [
       "0.6708203932499369"
      ]
     },
     "execution_count": 24,
     "metadata": {},
     "output_type": "execute_result"
    }
   ],
   "source": [
    "standard_error = sample_std/math.sqrt(N)\n",
    "standard_error"
   ]
  },
  {
   "cell_type": "code",
   "execution_count": 13,
   "id": "f79d0a8d",
   "metadata": {
    "ExecuteTime": {
     "end_time": "2023-01-16T09:50:41.426679Z",
     "start_time": "2023-01-16T09:50:41.412327Z"
    }
   },
   "outputs": [],
   "source": [
    "#94% confidence level"
   ]
  },
  {
   "cell_type": "code",
   "execution_count": 21,
   "id": "60671dd5",
   "metadata": {
    "ExecuteTime": {
     "end_time": "2023-01-16T10:14:30.693357Z",
     "start_time": "2023-01-16T10:14:30.676370Z"
    }
   },
   "outputs": [
    {
     "data": {
      "text/plain": [
       "1.8818614764780113"
      ]
     },
     "execution_count": 21,
     "metadata": {},
     "output_type": "execute_result"
    }
   ],
   "source": [
    "t_score1 = stats.t.ppf(0.97,df= 1999)\n",
    "t_score1"
   ]
  },
  {
   "cell_type": "code",
   "execution_count": 28,
   "id": "5a43a572",
   "metadata": {
    "ExecuteTime": {
     "end_time": "2023-01-16T10:22:15.891124Z",
     "start_time": "2023-01-16T10:22:15.874554Z"
    }
   },
   "outputs": [
    {
     "data": {
      "text/plain": [
       "(198.7376089443071, 201.2623910556929)"
      ]
     },
     "execution_count": 28,
     "metadata": {},
     "output_type": "execute_result"
    }
   ],
   "source": [
    "confidence_interval1 = sample_mean + (t_score1*standard_error)\n",
    "confidence_interval2 = sample_mean - (t_score1*standard_error)\n",
    "confidence_interval = (confidence_interval2,confidence_interval1)\n",
    "confidence_interval"
   ]
  },
  {
   "cell_type": "code",
   "execution_count": 17,
   "id": "f378bb61",
   "metadata": {
    "ExecuteTime": {
     "end_time": "2023-01-16T09:55:55.496141Z",
     "start_time": "2023-01-16T09:55:55.481183Z"
    }
   },
   "outputs": [],
   "source": [
    "#96% confidence level"
   ]
  },
  {
   "cell_type": "code",
   "execution_count": 29,
   "id": "1727aad7",
   "metadata": {
    "ExecuteTime": {
     "end_time": "2023-01-16T10:23:35.420750Z",
     "start_time": "2023-01-16T10:23:35.396850Z"
    }
   },
   "outputs": [
    {
     "data": {
      "text/plain": [
       "2.055089962825778"
      ]
     },
     "execution_count": 29,
     "metadata": {},
     "output_type": "execute_result"
    }
   ],
   "source": [
    "t_score2 = stats.t.ppf(0.98,df = 1999)\n",
    "t_score2"
   ]
  },
  {
   "cell_type": "code",
   "execution_count": 30,
   "id": "d2eeb2f9",
   "metadata": {
    "ExecuteTime": {
     "end_time": "2023-01-16T10:25:09.968874Z",
     "start_time": "2023-01-16T10:25:09.958897Z"
    }
   },
   "outputs": [
    {
     "data": {
      "text/plain": [
       "(198.6214037429732, 201.3785962570268)"
      ]
     },
     "execution_count": 30,
     "metadata": {},
     "output_type": "execute_result"
    }
   ],
   "source": [
    "confidence_interval1 = sample_mean + (t_score2*standard_error)\n",
    "confidence_interval2 = sample_mean - (t_score2*standard_error)\n",
    "confidence_interval = (confidence_interval2,confidence_interval1)\n",
    "confidence_interval"
   ]
  },
  {
   "cell_type": "code",
   "execution_count": 16,
   "id": "defa82dc",
   "metadata": {
    "ExecuteTime": {
     "end_time": "2023-01-16T09:55:52.380096Z",
     "start_time": "2023-01-16T09:55:52.370615Z"
    }
   },
   "outputs": [],
   "source": [
    "#98% confidence level"
   ]
  },
  {
   "cell_type": "code",
   "execution_count": 32,
   "id": "7f4b82a3",
   "metadata": {
    "ExecuteTime": {
     "end_time": "2023-01-16T10:27:42.389462Z",
     "start_time": "2023-01-16T10:27:42.379245Z"
    }
   },
   "outputs": [
    {
     "data": {
      "text/plain": [
       "2.328214776106972"
      ]
     },
     "execution_count": 32,
     "metadata": {},
     "output_type": "execute_result"
    }
   ],
   "source": [
    "t_score3 = stats.t.ppf(0.99,df = 1999)\n",
    "t_score3"
   ]
  },
  {
   "cell_type": "code",
   "execution_count": 33,
   "id": "d100ef9b",
   "metadata": {
    "ExecuteTime": {
     "end_time": "2023-01-16T10:28:00.600757Z",
     "start_time": "2023-01-16T10:28:00.590346Z"
    }
   },
   "outputs": [
    {
     "data": {
      "text/plain": [
       "(198.4381860483216, 201.5618139516784)"
      ]
     },
     "execution_count": 33,
     "metadata": {},
     "output_type": "execute_result"
    }
   ],
   "source": [
    "confidence_interval1 = sample_mean + (t_score3*standard_error)\n",
    "confidence_interval2 = sample_mean - (t_score3*standard_error)\n",
    "confidence_interval = (confidence_interval2,confidence_interval1)\n",
    "confidence_interval"
   ]
  },
  {
   "cell_type": "markdown",
   "id": "eb3b7b95",
   "metadata": {},
   "source": [
    "# Q12.\n",
    "\n",
    "### Below are the scores obtained by a student in tests 34,36,36,38,38,39,39,40,40,41,41,41,41,42,42,45,49,56\n",
    "\n",
    "  1)\tFind mean, median, variance, standard deviation.\n",
    "  2)\tWhat can we say about the student marks? \n"
   ]
  },
  {
   "cell_type": "code",
   "execution_count": 42,
   "id": "49930daf",
   "metadata": {
    "ExecuteTime": {
     "end_time": "2023-01-16T10:40:22.732526Z",
     "start_time": "2023-01-16T10:40:22.691418Z"
    }
   },
   "outputs": [
    {
     "data": {
      "text/html": [
       "<div>\n",
       "<style scoped>\n",
       "    .dataframe tbody tr th:only-of-type {\n",
       "        vertical-align: middle;\n",
       "    }\n",
       "\n",
       "    .dataframe tbody tr th {\n",
       "        vertical-align: top;\n",
       "    }\n",
       "\n",
       "    .dataframe thead th {\n",
       "        text-align: right;\n",
       "    }\n",
       "</style>\n",
       "<table border=\"1\" class=\"dataframe\">\n",
       "  <thead>\n",
       "    <tr style=\"text-align: right;\">\n",
       "      <th></th>\n",
       "      <th>scores</th>\n",
       "    </tr>\n",
       "  </thead>\n",
       "  <tbody>\n",
       "    <tr>\n",
       "      <th>0</th>\n",
       "      <td>34</td>\n",
       "    </tr>\n",
       "    <tr>\n",
       "      <th>1</th>\n",
       "      <td>36</td>\n",
       "    </tr>\n",
       "    <tr>\n",
       "      <th>2</th>\n",
       "      <td>36</td>\n",
       "    </tr>\n",
       "    <tr>\n",
       "      <th>3</th>\n",
       "      <td>38</td>\n",
       "    </tr>\n",
       "    <tr>\n",
       "      <th>4</th>\n",
       "      <td>38</td>\n",
       "    </tr>\n",
       "    <tr>\n",
       "      <th>5</th>\n",
       "      <td>39</td>\n",
       "    </tr>\n",
       "    <tr>\n",
       "      <th>6</th>\n",
       "      <td>39</td>\n",
       "    </tr>\n",
       "    <tr>\n",
       "      <th>7</th>\n",
       "      <td>40</td>\n",
       "    </tr>\n",
       "    <tr>\n",
       "      <th>8</th>\n",
       "      <td>40</td>\n",
       "    </tr>\n",
       "    <tr>\n",
       "      <th>9</th>\n",
       "      <td>41</td>\n",
       "    </tr>\n",
       "    <tr>\n",
       "      <th>10</th>\n",
       "      <td>41</td>\n",
       "    </tr>\n",
       "    <tr>\n",
       "      <th>11</th>\n",
       "      <td>41</td>\n",
       "    </tr>\n",
       "    <tr>\n",
       "      <th>12</th>\n",
       "      <td>41</td>\n",
       "    </tr>\n",
       "    <tr>\n",
       "      <th>13</th>\n",
       "      <td>42</td>\n",
       "    </tr>\n",
       "    <tr>\n",
       "      <th>14</th>\n",
       "      <td>42</td>\n",
       "    </tr>\n",
       "    <tr>\n",
       "      <th>15</th>\n",
       "      <td>45</td>\n",
       "    </tr>\n",
       "    <tr>\n",
       "      <th>16</th>\n",
       "      <td>49</td>\n",
       "    </tr>\n",
       "    <tr>\n",
       "      <th>17</th>\n",
       "      <td>56</td>\n",
       "    </tr>\n",
       "  </tbody>\n",
       "</table>\n",
       "</div>"
      ],
      "text/plain": [
       "    scores\n",
       "0       34\n",
       "1       36\n",
       "2       36\n",
       "3       38\n",
       "4       38\n",
       "5       39\n",
       "6       39\n",
       "7       40\n",
       "8       40\n",
       "9       41\n",
       "10      41\n",
       "11      41\n",
       "12      41\n",
       "13      42\n",
       "14      42\n",
       "15      45\n",
       "16      49\n",
       "17      56"
      ]
     },
     "execution_count": 42,
     "metadata": {},
     "output_type": "execute_result"
    }
   ],
   "source": [
    "data = pd.DataFrame({'scores':[34,36,36,38,38,39,39,40,40,41,41,41,41,42,42,45,49,56]})\n",
    "data"
   ]
  },
  {
   "cell_type": "code",
   "execution_count": 43,
   "id": "81ede2f6",
   "metadata": {
    "ExecuteTime": {
     "end_time": "2023-01-16T10:41:02.160907Z",
     "start_time": "2023-01-16T10:41:02.145642Z"
    }
   },
   "outputs": [
    {
     "data": {
      "text/plain": [
       "scores    41.0\n",
       "dtype: float64"
      ]
     },
     "execution_count": 43,
     "metadata": {},
     "output_type": "execute_result"
    }
   ],
   "source": [
    "data.mean()"
   ]
  },
  {
   "cell_type": "code",
   "execution_count": 44,
   "id": "00706301",
   "metadata": {
    "ExecuteTime": {
     "end_time": "2023-01-16T10:41:24.796255Z",
     "start_time": "2023-01-16T10:41:24.783103Z"
    }
   },
   "outputs": [
    {
     "data": {
      "text/plain": [
       "scores    40.5\n",
       "dtype: float64"
      ]
     },
     "execution_count": 44,
     "metadata": {},
     "output_type": "execute_result"
    }
   ],
   "source": [
    "data.median()"
   ]
  },
  {
   "cell_type": "code",
   "execution_count": 45,
   "id": "046d1c31",
   "metadata": {
    "ExecuteTime": {
     "end_time": "2023-01-16T10:41:31.655488Z",
     "start_time": "2023-01-16T10:41:31.640961Z"
    }
   },
   "outputs": [
    {
     "data": {
      "text/plain": [
       "scores    25.529412\n",
       "dtype: float64"
      ]
     },
     "execution_count": 45,
     "metadata": {},
     "output_type": "execute_result"
    }
   ],
   "source": [
    "data.var()"
   ]
  },
  {
   "cell_type": "code",
   "execution_count": 46,
   "id": "f1235c35",
   "metadata": {
    "ExecuteTime": {
     "end_time": "2023-01-16T10:41:38.803189Z",
     "start_time": "2023-01-16T10:41:38.778290Z"
    }
   },
   "outputs": [
    {
     "data": {
      "text/plain": [
       "scores    5.052664\n",
       "dtype: float64"
      ]
     },
     "execution_count": 46,
     "metadata": {},
     "output_type": "execute_result"
    }
   ],
   "source": [
    "data.std()"
   ]
  },
  {
   "cell_type": "markdown",
   "id": "7b4aed12",
   "metadata": {},
   "source": [
    "# Q20.\n",
    "\n",
    "### Calculate the probability of MPG  of Cars for the below cases.\n",
    "     \n",
    "     MPG <- Cars$MPG\n",
    "    a.\tP(MPG>38)\n",
    "    b.\tP(MPG<40)\n",
    "    c.    P (20<MPG<50)\n"
   ]
  },
  {
   "cell_type": "code",
   "execution_count": 52,
   "id": "f33b2558",
   "metadata": {
    "ExecuteTime": {
     "end_time": "2023-01-16T11:21:27.901616Z",
     "start_time": "2023-01-16T11:21:27.872857Z"
    }
   },
   "outputs": [
    {
     "data": {
      "text/html": [
       "<div>\n",
       "<style scoped>\n",
       "    .dataframe tbody tr th:only-of-type {\n",
       "        vertical-align: middle;\n",
       "    }\n",
       "\n",
       "    .dataframe tbody tr th {\n",
       "        vertical-align: top;\n",
       "    }\n",
       "\n",
       "    .dataframe thead th {\n",
       "        text-align: right;\n",
       "    }\n",
       "</style>\n",
       "<table border=\"1\" class=\"dataframe\">\n",
       "  <thead>\n",
       "    <tr style=\"text-align: right;\">\n",
       "      <th></th>\n",
       "      <th>HP</th>\n",
       "      <th>MPG</th>\n",
       "      <th>VOL</th>\n",
       "      <th>SP</th>\n",
       "      <th>WT</th>\n",
       "    </tr>\n",
       "  </thead>\n",
       "  <tbody>\n",
       "    <tr>\n",
       "      <th>0</th>\n",
       "      <td>49</td>\n",
       "      <td>53.700681</td>\n",
       "      <td>89</td>\n",
       "      <td>104.185353</td>\n",
       "      <td>28.762059</td>\n",
       "    </tr>\n",
       "    <tr>\n",
       "      <th>1</th>\n",
       "      <td>55</td>\n",
       "      <td>50.013401</td>\n",
       "      <td>92</td>\n",
       "      <td>105.461264</td>\n",
       "      <td>30.466833</td>\n",
       "    </tr>\n",
       "    <tr>\n",
       "      <th>2</th>\n",
       "      <td>55</td>\n",
       "      <td>50.013401</td>\n",
       "      <td>92</td>\n",
       "      <td>105.461264</td>\n",
       "      <td>30.193597</td>\n",
       "    </tr>\n",
       "    <tr>\n",
       "      <th>3</th>\n",
       "      <td>70</td>\n",
       "      <td>45.696322</td>\n",
       "      <td>92</td>\n",
       "      <td>113.461264</td>\n",
       "      <td>30.632114</td>\n",
       "    </tr>\n",
       "    <tr>\n",
       "      <th>4</th>\n",
       "      <td>53</td>\n",
       "      <td>50.504232</td>\n",
       "      <td>92</td>\n",
       "      <td>104.461264</td>\n",
       "      <td>29.889149</td>\n",
       "    </tr>\n",
       "  </tbody>\n",
       "</table>\n",
       "</div>"
      ],
      "text/plain": [
       "   HP        MPG  VOL          SP         WT\n",
       "0  49  53.700681   89  104.185353  28.762059\n",
       "1  55  50.013401   92  105.461264  30.466833\n",
       "2  55  50.013401   92  105.461264  30.193597\n",
       "3  70  45.696322   92  113.461264  30.632114\n",
       "4  53  50.504232   92  104.461264  29.889149"
      ]
     },
     "execution_count": 52,
     "metadata": {},
     "output_type": "execute_result"
    }
   ],
   "source": [
    "cars = pd.read_csv('Cars.csv')\n",
    "cars.head()"
   ]
  },
  {
   "cell_type": "code",
   "execution_count": 54,
   "id": "71214df0",
   "metadata": {
    "ExecuteTime": {
     "end_time": "2023-01-16T11:25:49.035427Z",
     "start_time": "2023-01-16T11:25:49.026110Z"
    }
   },
   "outputs": [],
   "source": [
    "mean = cars['MPG'].mean()\n",
    "std = cars['MPG'].std()"
   ]
  },
  {
   "cell_type": "code",
   "execution_count": 55,
   "id": "4306a541",
   "metadata": {
    "ExecuteTime": {
     "end_time": "2023-01-16T11:26:01.022139Z",
     "start_time": "2023-01-16T11:26:01.008902Z"
    }
   },
   "outputs": [
    {
     "data": {
      "text/plain": [
       "34.422075728024666"
      ]
     },
     "execution_count": 55,
     "metadata": {},
     "output_type": "execute_result"
    }
   ],
   "source": [
    "mean"
   ]
  },
  {
   "cell_type": "code",
   "execution_count": 56,
   "id": "6ba8fa2f",
   "metadata": {
    "ExecuteTime": {
     "end_time": "2023-01-16T11:26:10.302942Z",
     "start_time": "2023-01-16T11:26:10.288951Z"
    }
   },
   "outputs": [
    {
     "data": {
      "text/plain": [
       "9.131444731795982"
      ]
     },
     "execution_count": 56,
     "metadata": {},
     "output_type": "execute_result"
    }
   ],
   "source": [
    "std"
   ]
  },
  {
   "cell_type": "code",
   "execution_count": 57,
   "id": "5cabe341",
   "metadata": {
    "ExecuteTime": {
     "end_time": "2023-01-16T11:26:16.482980Z",
     "start_time": "2023-01-16T11:26:16.475355Z"
    }
   },
   "outputs": [
    {
     "data": {
      "text/plain": [
       "0.3918245553758747"
      ]
     },
     "execution_count": 57,
     "metadata": {},
     "output_type": "execute_result"
    }
   ],
   "source": [
    "#a. MPG>38\n",
    "\n",
    "x = 38\n",
    "\n",
    "z = (x-mean)/std\n",
    "z"
   ]
  },
  {
   "cell_type": "code",
   "execution_count": 59,
   "id": "d2c78aa4",
   "metadata": {
    "ExecuteTime": {
     "end_time": "2023-01-16T11:28:25.591602Z",
     "start_time": "2023-01-16T11:28:25.579319Z"
    }
   },
   "outputs": [
    {
     "data": {
      "text/plain": [
       "0.3475939251582705"
      ]
     },
     "execution_count": 59,
     "metadata": {},
     "output_type": "execute_result"
    }
   ],
   "source": [
    "1- stats.norm.cdf(z)"
   ]
  },
  {
   "cell_type": "markdown",
   "id": "1b6e18c5",
   "metadata": {},
   "source": [
    "* 35% Probability that MPG of cars is greater than 38."
   ]
  },
  {
   "cell_type": "code",
   "execution_count": 61,
   "id": "2a39b41f",
   "metadata": {
    "ExecuteTime": {
     "end_time": "2023-01-16T11:32:27.622817Z",
     "start_time": "2023-01-16T11:32:27.610132Z"
    }
   },
   "outputs": [
    {
     "data": {
      "text/plain": [
       "0.6108479474833619"
      ]
     },
     "execution_count": 61,
     "metadata": {},
     "output_type": "execute_result"
    }
   ],
   "source": [
    "#b. MPG<40\n",
    "\n",
    "x1 = 40\n",
    "\n",
    "z1 = (x1- mean)/std\n",
    "z1"
   ]
  },
  {
   "cell_type": "code",
   "execution_count": 63,
   "id": "618713df",
   "metadata": {
    "ExecuteTime": {
     "end_time": "2023-01-16T11:33:11.890220Z",
     "start_time": "2023-01-16T11:33:11.874270Z"
    }
   },
   "outputs": [
    {
     "data": {
      "text/plain": [
       "0.7293498762151616"
      ]
     },
     "execution_count": 63,
     "metadata": {},
     "output_type": "execute_result"
    }
   ],
   "source": [
    "stats.norm.cdf(z1)"
   ]
  },
  {
   "cell_type": "markdown",
   "id": "367bb60f",
   "metadata": {},
   "source": [
    "* 73% probability that MPG of cars is less than 40"
   ]
  },
  {
   "cell_type": "code",
   "execution_count": 64,
   "id": "6a675c13",
   "metadata": {
    "ExecuteTime": {
     "end_time": "2023-01-16T11:36:55.750915Z",
     "start_time": "2023-01-16T11:36:55.734871Z"
    }
   },
   "outputs": [],
   "source": [
    "#c. 20<MPG<50"
   ]
  },
  {
   "cell_type": "code",
   "execution_count": 65,
   "id": "88bd695d",
   "metadata": {
    "ExecuteTime": {
     "end_time": "2023-01-16T11:38:07.080976Z",
     "start_time": "2023-01-16T11:38:07.070348Z"
    }
   },
   "outputs": [
    {
     "data": {
      "text/plain": [
       "0.955992693289364"
      ]
     },
     "execution_count": 65,
     "metadata": {},
     "output_type": "execute_result"
    }
   ],
   "source": [
    "#MPG<50\n",
    "\n",
    "stats.norm.cdf(50,mean,std)"
   ]
  },
  {
   "cell_type": "code",
   "execution_count": 66,
   "id": "511ced03",
   "metadata": {
    "ExecuteTime": {
     "end_time": "2023-01-16T11:38:39.980811Z",
     "start_time": "2023-01-16T11:38:39.965254Z"
    }
   },
   "outputs": [
    {
     "data": {
      "text/plain": [
       "0.9428762236788406"
      ]
     },
     "execution_count": 66,
     "metadata": {},
     "output_type": "execute_result"
    }
   ],
   "source": [
    "#MPG>20\n",
    "\n",
    "1 - stats.norm.cdf(20,mean,std)"
   ]
  },
  {
   "cell_type": "code",
   "execution_count": 67,
   "id": "5d42843a",
   "metadata": {
    "ExecuteTime": {
     "end_time": "2023-01-16T11:39:32.711046Z",
     "start_time": "2023-01-16T11:39:32.700085Z"
    }
   },
   "outputs": [
    {
     "data": {
      "text/plain": [
       "0.013116469610523374"
      ]
     },
     "execution_count": 67,
     "metadata": {},
     "output_type": "execute_result"
    }
   ],
   "source": [
    "#20<MPG<50\n",
    "\n",
    "stats.norm.cdf(50,mean,std) - (1 - stats.norm.cdf(20,mean,std))"
   ]
  },
  {
   "cell_type": "markdown",
   "id": "adaec31f",
   "metadata": {},
   "source": [
    "* Probability of MPG of cars lies between 20 to 50 is 0.0131"
   ]
  },
  {
   "cell_type": "markdown",
   "id": "58b31b40",
   "metadata": {},
   "source": [
    "# Q21.\n",
    "\n",
    "### a)\tCheck whether the MPG of Cars follows Normal Distribution "
   ]
  },
  {
   "cell_type": "code",
   "execution_count": 76,
   "id": "ebfa0215",
   "metadata": {
    "ExecuteTime": {
     "end_time": "2023-01-16T11:48:34.230047Z",
     "start_time": "2023-01-16T11:48:34.210541Z"
    }
   },
   "outputs": [
    {
     "data": {
      "text/html": [
       "<div>\n",
       "<style scoped>\n",
       "    .dataframe tbody tr th:only-of-type {\n",
       "        vertical-align: middle;\n",
       "    }\n",
       "\n",
       "    .dataframe tbody tr th {\n",
       "        vertical-align: top;\n",
       "    }\n",
       "\n",
       "    .dataframe thead th {\n",
       "        text-align: right;\n",
       "    }\n",
       "</style>\n",
       "<table border=\"1\" class=\"dataframe\">\n",
       "  <thead>\n",
       "    <tr style=\"text-align: right;\">\n",
       "      <th></th>\n",
       "      <th>HP</th>\n",
       "      <th>MPG</th>\n",
       "      <th>VOL</th>\n",
       "      <th>SP</th>\n",
       "      <th>WT</th>\n",
       "    </tr>\n",
       "  </thead>\n",
       "  <tbody>\n",
       "    <tr>\n",
       "      <th>0</th>\n",
       "      <td>49</td>\n",
       "      <td>53.700681</td>\n",
       "      <td>89</td>\n",
       "      <td>104.185353</td>\n",
       "      <td>28.762059</td>\n",
       "    </tr>\n",
       "    <tr>\n",
       "      <th>1</th>\n",
       "      <td>55</td>\n",
       "      <td>50.013401</td>\n",
       "      <td>92</td>\n",
       "      <td>105.461264</td>\n",
       "      <td>30.466833</td>\n",
       "    </tr>\n",
       "    <tr>\n",
       "      <th>2</th>\n",
       "      <td>55</td>\n",
       "      <td>50.013401</td>\n",
       "      <td>92</td>\n",
       "      <td>105.461264</td>\n",
       "      <td>30.193597</td>\n",
       "    </tr>\n",
       "    <tr>\n",
       "      <th>3</th>\n",
       "      <td>70</td>\n",
       "      <td>45.696322</td>\n",
       "      <td>92</td>\n",
       "      <td>113.461264</td>\n",
       "      <td>30.632114</td>\n",
       "    </tr>\n",
       "    <tr>\n",
       "      <th>4</th>\n",
       "      <td>53</td>\n",
       "      <td>50.504232</td>\n",
       "      <td>92</td>\n",
       "      <td>104.461264</td>\n",
       "      <td>29.889149</td>\n",
       "    </tr>\n",
       "  </tbody>\n",
       "</table>\n",
       "</div>"
      ],
      "text/plain": [
       "   HP        MPG  VOL          SP         WT\n",
       "0  49  53.700681   89  104.185353  28.762059\n",
       "1  55  50.013401   92  105.461264  30.466833\n",
       "2  55  50.013401   92  105.461264  30.193597\n",
       "3  70  45.696322   92  113.461264  30.632114\n",
       "4  53  50.504232   92  104.461264  29.889149"
      ]
     },
     "execution_count": 76,
     "metadata": {},
     "output_type": "execute_result"
    }
   ],
   "source": [
    "\n",
    "cars.head()"
   ]
  },
  {
   "cell_type": "code",
   "execution_count": 72,
   "id": "1db1886e",
   "metadata": {
    "ExecuteTime": {
     "end_time": "2023-01-16T11:44:12.172201Z",
     "start_time": "2023-01-16T11:44:11.984617Z"
    }
   },
   "outputs": [
    {
     "data": {
      "text/plain": [
       "<seaborn.axisgrid.FacetGrid at 0x1d19a7c2340>"
      ]
     },
     "execution_count": 72,
     "metadata": {},
     "output_type": "execute_result"
    },
    {
     "data": {
      "image/png": "[encoded data removed]",
      "text/plain": [
       "<Figure size 360x360 with 1 Axes>"
      ]
     },
     "metadata": {
      "needs_background": "light"
     },
     "output_type": "display_data"
    }
   ],
   "source": [
    "sns.displot(cars['MPG'])"
   ]
  },
  {
   "cell_type": "code",
   "execution_count": 74,
   "id": "3bd2b3e5",
   "metadata": {
    "ExecuteTime": {
     "end_time": "2023-01-16T11:45:39.424705Z",
     "start_time": "2023-01-16T11:45:39.409756Z"
    }
   },
   "outputs": [
    {
     "data": {
      "text/plain": [
       "count    81.000000\n",
       "mean     34.422076\n",
       "std       9.131445\n",
       "min      12.101263\n",
       "25%      27.856252\n",
       "50%      35.152727\n",
       "75%      39.531633\n",
       "max      53.700681\n",
       "Name: MPG, dtype: float64"
      ]
     },
     "execution_count": 74,
     "metadata": {},
     "output_type": "execute_result"
    }
   ],
   "source": [
    "cars['MPG'].describe()"
   ]
  },
  {
   "cell_type": "markdown",
   "id": "e0f431f6",
   "metadata": {},
   "source": [
    "* Based on the graph and descriptive stats values, we observe that the data is slightly negatively skewed."
   ]
  },
  {
   "cell_type": "markdown",
   "id": "5819e646",
   "metadata": {},
   "source": [
    "# Q21(b).\n",
    "\n",
    "### b)\tCheck Whether the Adipose Tissue (AT) and Waist Circumference(Waist)  from wc-at data set  follows Normal Distribution "
   ]
  },
  {
   "cell_type": "code",
   "execution_count": 77,
   "id": "5fc6151e",
   "metadata": {
    "ExecuteTime": {
     "end_time": "2023-01-16T11:50:00.252760Z",
     "start_time": "2023-01-16T11:50:00.226323Z"
    }
   },
   "outputs": [
    {
     "data": {
      "text/html": [
       "<div>\n",
       "<style scoped>\n",
       "    .dataframe tbody tr th:only-of-type {\n",
       "        vertical-align: middle;\n",
       "    }\n",
       "\n",
       "    .dataframe tbody tr th {\n",
       "        vertical-align: top;\n",
       "    }\n",
       "\n",
       "    .dataframe thead th {\n",
       "        text-align: right;\n",
       "    }\n",
       "</style>\n",
       "<table border=\"1\" class=\"dataframe\">\n",
       "  <thead>\n",
       "    <tr style=\"text-align: right;\">\n",
       "      <th></th>\n",
       "      <th>Waist</th>\n",
       "      <th>AT</th>\n",
       "    </tr>\n",
       "  </thead>\n",
       "  <tbody>\n",
       "    <tr>\n",
       "      <th>0</th>\n",
       "      <td>74.75</td>\n",
       "      <td>25.72</td>\n",
       "    </tr>\n",
       "    <tr>\n",
       "      <th>1</th>\n",
       "      <td>72.60</td>\n",
       "      <td>25.89</td>\n",
       "    </tr>\n",
       "    <tr>\n",
       "      <th>2</th>\n",
       "      <td>81.80</td>\n",
       "      <td>42.60</td>\n",
       "    </tr>\n",
       "    <tr>\n",
       "      <th>3</th>\n",
       "      <td>83.95</td>\n",
       "      <td>42.80</td>\n",
       "    </tr>\n",
       "    <tr>\n",
       "      <th>4</th>\n",
       "      <td>74.65</td>\n",
       "      <td>29.84</td>\n",
       "    </tr>\n",
       "  </tbody>\n",
       "</table>\n",
       "</div>"
      ],
      "text/plain": [
       "   Waist     AT\n",
       "0  74.75  25.72\n",
       "1  72.60  25.89\n",
       "2  81.80  42.60\n",
       "3  83.95  42.80\n",
       "4  74.65  29.84"
      ]
     },
     "execution_count": 77,
     "metadata": {},
     "output_type": "execute_result"
    }
   ],
   "source": [
    "wc = pd.read_csv('wc-at.csv')\n",
    "wc.head()"
   ]
  },
  {
   "cell_type": "code",
   "execution_count": 78,
   "id": "51bba3f2",
   "metadata": {
    "ExecuteTime": {
     "end_time": "2023-01-16T11:50:27.754447Z",
     "start_time": "2023-01-16T11:50:27.722921Z"
    }
   },
   "outputs": [
    {
     "data": {
      "text/html": [
       "<div>\n",
       "<style scoped>\n",
       "    .dataframe tbody tr th:only-of-type {\n",
       "        vertical-align: middle;\n",
       "    }\n",
       "\n",
       "    .dataframe tbody tr th {\n",
       "        vertical-align: top;\n",
       "    }\n",
       "\n",
       "    .dataframe thead th {\n",
       "        text-align: right;\n",
       "    }\n",
       "</style>\n",
       "<table border=\"1\" class=\"dataframe\">\n",
       "  <thead>\n",
       "    <tr style=\"text-align: right;\">\n",
       "      <th></th>\n",
       "      <th>Waist</th>\n",
       "      <th>AT</th>\n",
       "    </tr>\n",
       "  </thead>\n",
       "  <tbody>\n",
       "    <tr>\n",
       "      <th>count</th>\n",
       "      <td>109.000000</td>\n",
       "      <td>109.000000</td>\n",
       "    </tr>\n",
       "    <tr>\n",
       "      <th>mean</th>\n",
       "      <td>91.901835</td>\n",
       "      <td>101.894037</td>\n",
       "    </tr>\n",
       "    <tr>\n",
       "      <th>std</th>\n",
       "      <td>13.559116</td>\n",
       "      <td>57.294763</td>\n",
       "    </tr>\n",
       "    <tr>\n",
       "      <th>min</th>\n",
       "      <td>63.500000</td>\n",
       "      <td>11.440000</td>\n",
       "    </tr>\n",
       "    <tr>\n",
       "      <th>25%</th>\n",
       "      <td>80.000000</td>\n",
       "      <td>50.880000</td>\n",
       "    </tr>\n",
       "    <tr>\n",
       "      <th>50%</th>\n",
       "      <td>90.800000</td>\n",
       "      <td>96.540000</td>\n",
       "    </tr>\n",
       "    <tr>\n",
       "      <th>75%</th>\n",
       "      <td>104.000000</td>\n",
       "      <td>137.000000</td>\n",
       "    </tr>\n",
       "    <tr>\n",
       "      <th>max</th>\n",
       "      <td>121.000000</td>\n",
       "      <td>253.000000</td>\n",
       "    </tr>\n",
       "  </tbody>\n",
       "</table>\n",
       "</div>"
      ],
      "text/plain": [
       "            Waist          AT\n",
       "count  109.000000  109.000000\n",
       "mean    91.901835  101.894037\n",
       "std     13.559116   57.294763\n",
       "min     63.500000   11.440000\n",
       "25%     80.000000   50.880000\n",
       "50%     90.800000   96.540000\n",
       "75%    104.000000  137.000000\n",
       "max    121.000000  253.000000"
      ]
     },
     "execution_count": 78,
     "metadata": {},
     "output_type": "execute_result"
    }
   ],
   "source": [
    "wc.describe()"
   ]
  },
  {
   "cell_type": "code",
   "execution_count": 81,
   "id": "703c244a",
   "metadata": {
    "ExecuteTime": {
     "end_time": "2023-01-16T11:52:36.722303Z",
     "start_time": "2023-01-16T11:52:36.488627Z"
    }
   },
   "outputs": [
    {
     "data": {
      "text/plain": [
       "<AxesSubplot:ylabel='Count'>"
      ]
     },
     "execution_count": 81,
     "metadata": {},
     "output_type": "execute_result"
    },
    {
     "data": {
      "image/png": "[encoded data removed]",
      "text/plain": [
       "<Figure size 432x288 with 1 Axes>"
      ]
     },
     "metadata": {
      "needs_background": "light"
     },
     "output_type": "display_data"
    }
   ],
   "source": [
    "sns.histplot(wc)"
   ]
  },
  {
   "cell_type": "markdown",
   "id": "267f3d31",
   "metadata": {},
   "source": [
    "* Based on the graph and descriptive stats values, the distribution of data is positively or right skewed."
   ]
  },
  {
   "cell_type": "markdown",
   "id": "d9dd405b",
   "metadata": {},
   "source": [
    "# Q22.\n",
    "\n",
    "### Calculate the Z scores of  90% confidence interval,94% confidence interval, 60% confidence interval "
   ]
  },
  {
   "cell_type": "code",
   "execution_count": 5,
   "id": "08930802",
   "metadata": {
    "ExecuteTime": {
     "end_time": "2023-01-16T14:19:41.118532Z",
     "start_time": "2023-01-16T14:19:41.105027Z"
    }
   },
   "outputs": [
    {
     "data": {
      "text/plain": [
       "1.6448536269514722"
      ]
     },
     "execution_count": 5,
     "metadata": {},
     "output_type": "execute_result"
    }
   ],
   "source": [
    "#90% confidence level zscore value is\n",
    "\n",
    "stats.norm.ppf(0.95)"
   ]
  },
  {
   "cell_type": "code",
   "execution_count": 6,
   "id": "4006bce9",
   "metadata": {
    "ExecuteTime": {
     "end_time": "2023-01-16T14:20:45.489288Z",
     "start_time": "2023-01-16T14:20:45.477430Z"
    }
   },
   "outputs": [
    {
     "data": {
      "text/plain": [
       "1.8807936081512509"
      ]
     },
     "execution_count": 6,
     "metadata": {},
     "output_type": "execute_result"
    }
   ],
   "source": [
    "#94% confidence level zscore value is\n",
    "\n",
    "stats.norm.ppf(0.97)"
   ]
  },
  {
   "cell_type": "code",
   "execution_count": 7,
   "id": "cc50050d",
   "metadata": {
    "ExecuteTime": {
     "end_time": "2023-01-16T14:21:46.614551Z",
     "start_time": "2023-01-16T14:21:46.597977Z"
    }
   },
   "outputs": [
    {
     "data": {
      "text/plain": [
       "0.8416212335729143"
      ]
     },
     "execution_count": 7,
     "metadata": {},
     "output_type": "execute_result"
    }
   ],
   "source": [
    "#60% confidence level zscore value is\n",
    "\n",
    "stats.norm.ppf(0.80)"
   ]
  },
  {
   "cell_type": "markdown",
   "id": "45a0e858",
   "metadata": {},
   "source": [
    "# Q23.\n",
    "\n",
    "### Calculate the t scores of 95% confidence interval, 96% confidence interval, 99% confidence interval for sample size of 25"
   ]
  },
  {
   "cell_type": "code",
   "execution_count": 94,
   "id": "99f0704e",
   "metadata": {
    "ExecuteTime": {
     "end_time": "2023-01-16T12:28:11.700193Z",
     "start_time": "2023-01-16T12:28:11.689449Z"
    }
   },
   "outputs": [],
   "source": [
    "sample_size = 25\n",
    "df = 24"
   ]
  },
  {
   "cell_type": "code",
   "execution_count": 101,
   "id": "350db10e",
   "metadata": {
    "ExecuteTime": {
     "end_time": "2023-01-16T12:31:28.650255Z",
     "start_time": "2023-01-16T12:31:28.638063Z"
    }
   },
   "outputs": [
    {
     "data": {
      "text/plain": [
       "2.0638985616280205"
      ]
     },
     "execution_count": 101,
     "metadata": {},
     "output_type": "execute_result"
    }
   ],
   "source": [
    "#95% confidence level t-score value is\n",
    "\n",
    "alpha = 0.05\n",
    "stats.t.ppf(0.975,24)"
   ]
  },
  {
   "cell_type": "code",
   "execution_count": 102,
   "id": "95459b1d",
   "metadata": {
    "ExecuteTime": {
     "end_time": "2023-01-16T12:32:20.388593Z",
     "start_time": "2023-01-16T12:32:20.369338Z"
    }
   },
   "outputs": [
    {
     "data": {
      "text/plain": [
       "2.1715446760080677"
      ]
     },
     "execution_count": 102,
     "metadata": {},
     "output_type": "execute_result"
    }
   ],
   "source": [
    "#96% confidence level tscore value is\n",
    "\n",
    "alpha = 0.04\n",
    "stats.t.ppf(0.98,24)"
   ]
  },
  {
   "cell_type": "code",
   "execution_count": 103,
   "id": "1eca1be0",
   "metadata": {
    "ExecuteTime": {
     "end_time": "2023-01-16T12:33:18.115687Z",
     "start_time": "2023-01-16T12:33:18.093164Z"
    }
   },
   "outputs": [
    {
     "data": {
      "text/plain": [
       "2.796939504772804"
      ]
     },
     "execution_count": 103,
     "metadata": {},
     "output_type": "execute_result"
    }
   ],
   "source": [
    "#99% confidence level tscore value is\n",
    "\n",
    "alpha = 0.01\n",
    "stats.t.ppf(0.995,24)"
   ]
  },
  {
   "cell_type": "markdown",
   "id": "f8a83de5",
   "metadata": {},
   "source": [
    "# Q24.\n",
    "\n",
    "### A Government  company claims that an average light bulb lasts 270 days. A researcher randomly selects 18 bulbs for testing. The sampled bulbs last an average of 260 days, with a standard deviation of 90 days. If the CEO's claim were true, what is the probability that 18 randomly selected bulbs would have an average life of no more than 260 days"
   ]
  },
  {
   "cell_type": "code",
   "execution_count": 3,
   "id": "605cebac",
   "metadata": {
    "ExecuteTime": {
     "end_time": "2023-01-17T06:37:39.298271Z",
     "start_time": "2023-01-17T06:37:39.288298Z"
    }
   },
   "outputs": [],
   "source": [
    "n = 18\n",
    "Population_mean = 270\n",
    "Sample_mean = 260\n",
    "Sample_std = 90\n",
    "df = 17\n",
    "\n",
    "#Consider confidence level as 95%"
   ]
  },
  {
   "cell_type": "code",
   "execution_count": 8,
   "id": "c991bba1",
   "metadata": {
    "ExecuteTime": {
     "end_time": "2023-01-17T06:42:18.239888Z",
     "start_time": "2023-01-17T06:42:18.218739Z"
    }
   },
   "outputs": [
    {
     "data": {
      "text/plain": [
       "21.213203435596427"
      ]
     },
     "execution_count": 8,
     "metadata": {},
     "output_type": "execute_result"
    }
   ],
   "source": [
    "Standard_error = Sample_std/math.sqrt(n)\n",
    "Standard_error"
   ]
  },
  {
   "cell_type": "code",
   "execution_count": 9,
   "id": "48f56beb",
   "metadata": {
    "ExecuteTime": {
     "end_time": "2023-01-17T06:43:15.488775Z",
     "start_time": "2023-01-17T06:43:15.480059Z"
    }
   },
   "outputs": [
    {
     "data": {
      "text/plain": [
       "-0.4714045207910317"
      ]
     },
     "execution_count": 9,
     "metadata": {},
     "output_type": "execute_result"
    }
   ],
   "source": [
    "tstatistics = (Sample_mean - Population_mean)/Standard_error\n",
    "tstatistics"
   ]
  },
  {
   "cell_type": "code",
   "execution_count": 11,
   "id": "7095e297",
   "metadata": {
    "ExecuteTime": {
     "end_time": "2023-01-17T06:45:10.413587Z",
     "start_time": "2023-01-17T06:45:10.404759Z"
    }
   },
   "outputs": [
    {
     "data": {
      "text/plain": [
       "0.32167253567098364"
      ]
     },
     "execution_count": 11,
     "metadata": {},
     "output_type": "execute_result"
    }
   ],
   "source": [
    "stats.t.cdf(tstatistics,df)"
   ]
  },
  {
   "cell_type": "markdown",
   "id": "0fcaf142",
   "metadata": {},
   "source": [
    "* The probability that 18 randomly selected bulbs would have an average life of no more than 260 days is 0.3217"
   ]
  },
  {
   "cell_type": "markdown",
   "id": "18881f4c",
   "metadata": {},
   "source": [
    "# Q."
   ]
  },
  {
   "cell_type": "code",
   "execution_count": 4,
   "id": "095a404a",
   "metadata": {
    "ExecuteTime": {
     "end_time": "2023-01-17T18:37:49.456738Z",
     "start_time": "2023-01-17T18:37:49.442853Z"
    }
   },
   "outputs": [],
   "source": [
    "n = 400\n",
    "mean = 38\n",
    "std = 6"
   ]
  },
  {
   "cell_type": "code",
   "execution_count": 5,
   "id": "d060b9b0",
   "metadata": {
    "ExecuteTime": {
     "end_time": "2023-01-17T18:38:41.835144Z",
     "start_time": "2023-01-17T18:38:41.816915Z"
    }
   },
   "outputs": [
    {
     "data": {
      "text/plain": [
       "1.0"
      ]
     },
     "execution_count": 5,
     "metadata": {},
     "output_type": "execute_result"
    }
   ],
   "source": [
    "# > 44\n",
    "\n",
    "x1 = 44\n",
    "\n",
    "z1 = (x1 - mean)/std\n",
    "z1"
   ]
  },
  {
   "cell_type": "code",
   "execution_count": 6,
   "id": "7e845d1d",
   "metadata": {
    "ExecuteTime": {
     "end_time": "2023-01-17T18:38:53.008858Z",
     "start_time": "2023-01-17T18:38:52.984523Z"
    }
   },
   "outputs": [
    {
     "data": {
      "text/plain": [
       "0.8413447460685429"
      ]
     },
     "execution_count": 6,
     "metadata": {},
     "output_type": "execute_result"
    }
   ],
   "source": [
    "stats.norm.cdf(z1)"
   ]
  },
  {
   "cell_type": "code",
   "execution_count": 7,
   "id": "13ba2ae1",
   "metadata": {
    "ExecuteTime": {
     "end_time": "2023-01-17T18:39:05.227703Z",
     "start_time": "2023-01-17T18:39:05.208952Z"
    }
   },
   "outputs": [
    {
     "data": {
      "text/plain": [
       "0.15865525393145707"
      ]
     },
     "execution_count": 7,
     "metadata": {},
     "output_type": "execute_result"
    }
   ],
   "source": [
    "1- stats.norm.cdf(z1)"
   ]
  },
  {
   "cell_type": "code",
   "execution_count": 8,
   "id": "1046dbea",
   "metadata": {
    "ExecuteTime": {
     "end_time": "2023-01-17T18:40:44.963379Z",
     "start_time": "2023-01-17T18:40:44.950120Z"
    }
   },
   "outputs": [
    {
     "data": {
      "text/plain": [
       "0.0"
      ]
     },
     "execution_count": 8,
     "metadata": {},
     "output_type": "execute_result"
    }
   ],
   "source": [
    "# between 38 - 44\n",
    "\n",
    "# >38\n",
    "\n",
    "x2 = 38\n",
    "\n",
    "z2 = (x2 - mean)/std\n",
    "z2"
   ]
  },
  {
   "cell_type": "code",
   "execution_count": 9,
   "id": "f06a59c5",
   "metadata": {
    "ExecuteTime": {
     "end_time": "2023-01-17T18:41:17.140679Z",
     "start_time": "2023-01-17T18:41:17.118930Z"
    }
   },
   "outputs": [
    {
     "data": {
      "text/plain": [
       "0.5"
      ]
     },
     "execution_count": 9,
     "metadata": {},
     "output_type": "execute_result"
    }
   ],
   "source": [
    "stats.norm.cdf(z2)"
   ]
  },
  {
   "cell_type": "code",
   "execution_count": 10,
   "id": "50496258",
   "metadata": {
    "ExecuteTime": {
     "end_time": "2023-01-17T18:42:02.645249Z",
     "start_time": "2023-01-17T18:42:02.621531Z"
    }
   },
   "outputs": [
    {
     "data": {
      "text/plain": [
       "0.5"
      ]
     },
     "execution_count": 10,
     "metadata": {},
     "output_type": "execute_result"
    }
   ],
   "source": [
    "1 - stats.norm.cdf(z2)"
   ]
  },
  {
   "cell_type": "code",
   "execution_count": 11,
   "id": "efede4fe",
   "metadata": {
    "ExecuteTime": {
     "end_time": "2023-01-17T18:42:41.469552Z",
     "start_time": "2023-01-17T18:42:41.447630Z"
    }
   },
   "outputs": [
    {
     "data": {
      "text/plain": [
       "0.3413447460685429"
      ]
     },
     "execution_count": 11,
     "metadata": {},
     "output_type": "execute_result"
    }
   ],
   "source": [
    "stats.norm.cdf(z1) - (1 - stats.norm.cdf(z2))"
   ]
  },
  {
   "cell_type": "markdown",
   "id": "4bdd2245",
   "metadata": {},
   "source": [
    "* A  - False"
   ]
  },
  {
   "cell_type": "code",
   "execution_count": 12,
   "id": "084e951c",
   "metadata": {
    "ExecuteTime": {
     "end_time": "2023-01-17T18:47:28.847939Z",
     "start_time": "2023-01-17T18:47:28.824593Z"
    }
   },
   "outputs": [
    {
     "data": {
      "text/plain": [
       "-1.3333333333333333"
      ]
     },
     "execution_count": 12,
     "metadata": {},
     "output_type": "execute_result"
    }
   ],
   "source": [
    "# <30 \n",
    "\n",
    "x3 = 30\n",
    "\n",
    "z3 = (x3 - mean )/std\n",
    "z3"
   ]
  },
  {
   "cell_type": "code",
   "execution_count": 13,
   "id": "c63b4508",
   "metadata": {
    "ExecuteTime": {
     "end_time": "2023-01-17T18:47:40.087339Z",
     "start_time": "2023-01-17T18:47:40.068497Z"
    }
   },
   "outputs": [
    {
     "data": {
      "text/plain": [
       "0.09121121972586788"
      ]
     },
     "execution_count": 13,
     "metadata": {},
     "output_type": "execute_result"
    }
   ],
   "source": [
    "stats.norm.cdf(z3)"
   ]
  },
  {
   "cell_type": "markdown",
   "id": "50eb01ca",
   "metadata": {},
   "source": [
    "* 9% probability that the employees are under the age of 30."
   ]
  },
  {
   "cell_type": "code",
   "execution_count": 15,
   "id": "a1e95d94",
   "metadata": {
    "ExecuteTime": {
     "end_time": "2023-01-17T18:50:52.358117Z",
     "start_time": "2023-01-17T18:50:52.349628Z"
    }
   },
   "outputs": [
    {
     "data": {
      "text/plain": [
       "36.0"
      ]
     },
     "execution_count": 15,
     "metadata": {},
     "output_type": "execute_result"
    }
   ],
   "source": [
    "(9/100)*400"
   ]
  },
  {
   "cell_type": "code",
   "execution_count": 9,
   "id": "c96d1ac7",
   "metadata": {
    "ExecuteTime": {
     "end_time": "2023-01-23T07:49:00.842524Z",
     "start_time": "2023-01-23T07:49:00.827504Z"
    }
   },
   "outputs": [],
   "source": [
    "mean = 45\n",
    "std = 8\n",
    "n= 100"
   ]
  },
  {
   "cell_type": "code",
   "execution_count": 10,
   "id": "05728efe",
   "metadata": {
    "ExecuteTime": {
     "end_time": "2023-01-23T07:49:34.190020Z",
     "start_time": "2023-01-23T07:49:34.178322Z"
    }
   },
   "outputs": [
    {
     "data": {
      "text/plain": [
       "6.25"
      ]
     },
     "execution_count": 10,
     "metadata": {},
     "output_type": "execute_result"
    }
   ],
   "source": [
    "# < 50\n",
    "\n",
    "x4 = 50\n",
    "\n",
    "z4 = (x4 - mean)/(std/np.sqrt(n))\n",
    "z4"
   ]
  },
  {
   "cell_type": "code",
   "execution_count": 18,
   "id": "6c8392b4",
   "metadata": {
    "ExecuteTime": {
     "end_time": "2023-01-17T19:09:43.732742Z",
     "start_time": "2023-01-17T19:09:43.708741Z"
    }
   },
   "outputs": [
    {
     "data": {
      "text/plain": [
       "0.7340144709512995"
      ]
     },
     "execution_count": 18,
     "metadata": {},
     "output_type": "execute_result"
    }
   ],
   "source": [
    "stats.norm.cdf(z4)"
   ]
  },
  {
   "cell_type": "code",
   "execution_count": 19,
   "id": "733e8d70",
   "metadata": {
    "ExecuteTime": {
     "end_time": "2023-01-17T19:10:29.083415Z",
     "start_time": "2023-01-17T19:10:29.070502Z"
    }
   },
   "outputs": [
    {
     "data": {
      "text/plain": [
       "0.26598552904870054"
      ]
     },
     "execution_count": 19,
     "metadata": {},
     "output_type": "execute_result"
    }
   ],
   "source": [
    "1 - stats.norm.cdf(z4)"
   ]
  },
  {
   "cell_type": "code",
   "execution_count": 2,
   "id": "f73d64d8",
   "metadata": {
    "ExecuteTime": {
     "end_time": "2023-01-19T10:57:03.727535Z",
     "start_time": "2023-01-19T10:57:03.698929Z"
    }
   },
   "outputs": [
    {
     "data": {
      "text/plain": [
       "105.65279019200216"
      ]
     },
     "execution_count": 2,
     "metadata": {},
     "output_type": "execute_result"
    }
   ],
   "source": [
    "X1 = np.random.normal(100,20)\n",
    "X1"
   ]
  },
  {
   "cell_type": "code",
   "execution_count": 11,
   "id": "8e9f13de",
   "metadata": {
    "ExecuteTime": {
     "end_time": "2023-01-23T07:50:18.541583Z",
     "start_time": "2023-01-23T07:50:18.529042Z"
    }
   },
   "outputs": [],
   "source": [
    "mean = 50\n",
    "std = 40\n",
    "n = 100"
   ]
  },
  {
   "cell_type": "code",
   "execution_count": 24,
   "id": "033e9e39",
   "metadata": {
    "ExecuteTime": {
     "end_time": "2023-01-23T08:03:49.828058Z",
     "start_time": "2023-01-23T08:03:49.813225Z"
    }
   },
   "outputs": [
    {
     "data": {
      "text/plain": [
       "-0.125"
      ]
     },
     "execution_count": 24,
     "metadata": {},
     "output_type": "execute_result"
    }
   ],
   "source": [
    "#<45\n",
    "x5 = 45\n",
    "z5 = (45-mean)/std\n",
    "z5"
   ]
  },
  {
   "cell_type": "code",
   "execution_count": 46,
   "id": "2ae048cc",
   "metadata": {
    "ExecuteTime": {
     "end_time": "2023-01-23T09:20:38.142827Z",
     "start_time": "2023-01-23T09:20:38.121095Z"
    }
   },
   "outputs": [
    {
     "data": {
      "text/plain": [
       "0.5199388058383725"
      ]
     },
     "execution_count": 46,
     "metadata": {},
     "output_type": "execute_result"
    }
   ],
   "source": [
    "stats.norm.cdf(0.05)"
   ]
  },
  {
   "cell_type": "code",
   "execution_count": 32,
   "id": "74f638bf",
   "metadata": {
    "ExecuteTime": {
     "end_time": "2023-01-23T08:10:35.803422Z",
     "start_time": "2023-01-23T08:10:35.785925Z"
    }
   },
   "outputs": [
    {
     "data": {
      "text/plain": [
       "0.5497382248301129"
      ]
     },
     "execution_count": 32,
     "metadata": {},
     "output_type": "execute_result"
    }
   ],
   "source": [
    "1 - stats.norm.cdf(z5)"
   ]
  },
  {
   "cell_type": "code",
   "execution_count": 7,
   "id": "3ac59d47",
   "metadata": {
    "ExecuteTime": {
     "end_time": "2023-01-19T14:23:45.375339Z",
     "start_time": "2023-01-19T14:23:45.361529Z"
    }
   },
   "outputs": [],
   "source": [
    "from scipy import stats"
   ]
  },
  {
   "cell_type": "code",
   "execution_count": 29,
   "id": "cf387639",
   "metadata": {
    "ExecuteTime": {
     "end_time": "2023-01-23T08:08:59.079488Z",
     "start_time": "2023-01-23T08:08:59.068770Z"
    }
   },
   "outputs": [
    {
     "data": {
      "text/plain": [
       "0.125"
      ]
     },
     "execution_count": 29,
     "metadata": {},
     "output_type": "execute_result"
    }
   ],
   "source": [
    "#<55\n",
    "x6 = 55\n",
    "z6 = (x6 - mean)/(std)\n",
    "z6"
   ]
  },
  {
   "cell_type": "code",
   "execution_count": 37,
   "id": "39d5eb46",
   "metadata": {
    "ExecuteTime": {
     "end_time": "2023-01-23T08:26:26.482883Z",
     "start_time": "2023-01-23T08:26:26.473255Z"
    }
   },
   "outputs": [
    {
     "data": {
      "text/plain": [
       "0.8943502263331446"
      ]
     },
     "execution_count": 37,
     "metadata": {},
     "output_type": "execute_result"
    }
   ],
   "source": [
    "stats.norm.cdf(1.25)"
   ]
  },
  {
   "cell_type": "code",
   "execution_count": 35,
   "id": "5ee03a30",
   "metadata": {
    "ExecuteTime": {
     "end_time": "2023-01-23T08:12:09.135884Z",
     "start_time": "2023-01-23T08:12:09.118912Z"
    }
   },
   "outputs": [
    {
     "data": {
      "text/plain": [
       "[0.34461200150303173]"
      ]
     },
     "execution_count": 35,
     "metadata": {},
     "output_type": "execute_result"
    }
   ],
   "source": [
    "[stats.norm.cdf(1.25) - (1 - stats.norm.cdf(z5))]"
   ]
  },
  {
   "cell_type": "code",
   "execution_count": 38,
   "id": "c881aa48",
   "metadata": {
    "ExecuteTime": {
     "end_time": "2023-01-23T08:26:43.544697Z",
     "start_time": "2023-01-23T08:26:43.530095Z"
    }
   },
   "outputs": [
    {
     "data": {
      "text/plain": [
       "0.10564977366685535"
      ]
     },
     "execution_count": 38,
     "metadata": {},
     "output_type": "execute_result"
    }
   ],
   "source": [
    "stats.norm.cdf(-1.25)"
   ]
  },
  {
   "cell_type": "code",
   "execution_count": 36,
   "id": "03370c65",
   "metadata": {
    "ExecuteTime": {
     "end_time": "2023-01-23T08:12:41.525979Z",
     "start_time": "2023-01-23T08:12:41.505956Z"
    }
   },
   "outputs": [
    {
     "data": {
      "text/plain": [
       "0.665388"
      ]
     },
     "execution_count": 36,
     "metadata": {},
     "output_type": "execute_result"
    }
   ],
   "source": [
    "1 - 0.334612"
   ]
  },
  {
   "cell_type": "code",
   "execution_count": 21,
   "id": "3173aef2",
   "metadata": {
    "ExecuteTime": {
     "end_time": "2023-01-19T16:31:33.247063Z",
     "start_time": "2023-01-19T16:31:33.217355Z"
    }
   },
   "outputs": [
    {
     "data": {
      "text/html": [
       "<div>\n",
       "<style scoped>\n",
       "    .dataframe tbody tr th:only-of-type {\n",
       "        vertical-align: middle;\n",
       "    }\n",
       "\n",
       "    .dataframe tbody tr th {\n",
       "        vertical-align: top;\n",
       "    }\n",
       "\n",
       "    .dataframe thead th {\n",
       "        text-align: right;\n",
       "    }\n",
       "</style>\n",
       "<table border=\"1\" class=\"dataframe\">\n",
       "  <thead>\n",
       "    <tr style=\"text-align: right;\">\n",
       "      <th></th>\n",
       "      <th>X</th>\n",
       "    </tr>\n",
       "  </thead>\n",
       "  <tbody>\n",
       "    <tr>\n",
       "      <th>0</th>\n",
       "      <td>-2000</td>\n",
       "    </tr>\n",
       "    <tr>\n",
       "      <th>1</th>\n",
       "      <td>-1000</td>\n",
       "    </tr>\n",
       "    <tr>\n",
       "      <th>2</th>\n",
       "      <td>0</td>\n",
       "    </tr>\n",
       "    <tr>\n",
       "      <th>3</th>\n",
       "      <td>1000</td>\n",
       "    </tr>\n",
       "    <tr>\n",
       "      <th>4</th>\n",
       "      <td>2000</td>\n",
       "    </tr>\n",
       "    <tr>\n",
       "      <th>5</th>\n",
       "      <td>3000</td>\n",
       "    </tr>\n",
       "  </tbody>\n",
       "</table>\n",
       "</div>"
      ],
      "text/plain": [
       "      X\n",
       "0 -2000\n",
       "1 -1000\n",
       "2     0\n",
       "3  1000\n",
       "4  2000\n",
       "5  3000"
      ]
     },
     "execution_count": 21,
     "metadata": {},
     "output_type": "execute_result"
    }
   ],
   "source": [
    "df = pd.DataFrame({'X':[-2000,-1000,0,1000,2000,3000]})\n",
    "df"
   ]
  },
  {
   "cell_type": "code",
   "execution_count": 22,
   "id": "b809d104",
   "metadata": {
    "ExecuteTime": {
     "end_time": "2023-01-19T16:31:46.891369Z",
     "start_time": "2023-01-19T16:31:46.875102Z"
    }
   },
   "outputs": [
    {
     "data": {
      "text/plain": [
       "X    3500000.0\n",
       "dtype: float64"
      ]
     },
     "execution_count": 22,
     "metadata": {},
     "output_type": "execute_result"
    }
   ],
   "source": [
    "df.var()"
   ]
  },
  {
   "cell_type": "code",
   "execution_count": 23,
   "id": "1e525f59",
   "metadata": {
    "ExecuteTime": {
     "end_time": "2023-01-19T16:31:52.767456Z",
     "start_time": "2023-01-19T16:31:52.750669Z"
    }
   },
   "outputs": [
    {
     "data": {
      "text/plain": [
       "X    1870.828693\n",
       "dtype: float64"
      ]
     },
     "execution_count": 23,
     "metadata": {},
     "output_type": "execute_result"
    }
   ],
   "source": [
    "df.std()"
   ]
  },
  {
   "cell_type": "code",
   "execution_count": 24,
   "id": "f92b7c76",
   "metadata": {
    "ExecuteTime": {
     "end_time": "2023-01-19T16:32:24.123495Z",
     "start_time": "2023-01-19T16:32:24.112549Z"
    }
   },
   "outputs": [
    {
     "data": {
      "text/plain": [
       "X    500.0\n",
       "dtype: float64"
      ]
     },
     "execution_count": 24,
     "metadata": {},
     "output_type": "execute_result"
    }
   ],
   "source": [
    "df.mean()"
   ]
  },
  {
   "cell_type": "code",
   "execution_count": 29,
   "id": "44f61b0d",
   "metadata": {
    "ExecuteTime": {
     "end_time": "2023-01-19T18:20:26.269088Z",
     "start_time": "2023-01-19T18:20:26.251607Z"
    }
   },
   "outputs": [],
   "source": [
    "\n",
    "mean = 100\n",
    "std = 20"
   ]
  },
  {
   "cell_type": "code",
   "execution_count": 6,
   "id": "232ea0b7",
   "metadata": {
    "ExecuteTime": {
     "end_time": "2023-01-20T06:39:16.317717Z",
     "start_time": "2023-01-20T06:39:16.303255Z"
    }
   },
   "outputs": [
    {
     "data": {
      "text/plain": [
       "0.995"
      ]
     },
     "execution_count": 6,
     "metadata": {},
     "output_type": "execute_result"
    }
   ],
   "source": [
    "P = 0.99\n",
    "alpha = 0.01\n",
    "P + (alpha/2)"
   ]
  },
  {
   "cell_type": "code",
   "execution_count": 4,
   "id": "0f3d7a9c",
   "metadata": {
    "ExecuteTime": {
     "end_time": "2023-01-20T06:36:24.014654Z",
     "start_time": "2023-01-20T06:36:23.996301Z"
    }
   },
   "outputs": [
    {
     "data": {
      "text/plain": [
       "2.5758293035489004"
      ]
     },
     "execution_count": 4,
     "metadata": {},
     "output_type": "execute_result"
    }
   ],
   "source": [
    "stats.norm.ppf(0.995)"
   ]
  },
  {
   "cell_type": "code",
   "execution_count": 47,
   "id": "916caa1b",
   "metadata": {
    "ExecuteTime": {
     "end_time": "2023-01-23T09:31:27.261602Z",
     "start_time": "2023-01-23T09:31:27.250614Z"
    }
   },
   "outputs": [
    {
     "data": {
      "text/plain": [
       "0.8352198700196897"
      ]
     },
     "execution_count": 47,
     "metadata": {},
     "output_type": "execute_result"
    }
   ],
   "source": [
    "stats.norm.cdf(0.975)"
   ]
  },
  {
   "cell_type": "code",
   "execution_count": 48,
   "id": "213bb9d4",
   "metadata": {
    "ExecuteTime": {
     "end_time": "2023-01-23T09:31:32.586664Z",
     "start_time": "2023-01-23T09:31:32.572173Z"
    }
   },
   "outputs": [
    {
     "data": {
      "text/plain": [
       "1.959963984540054"
      ]
     },
     "execution_count": 48,
     "metadata": {},
     "output_type": "execute_result"
    }
   ],
   "source": [
    "stats.norm.ppf(0.975)"
   ]
  },
  {
   "cell_type": "code",
   "execution_count": 2,
   "id": "3a7c0019",
   "metadata": {
    "ExecuteTime": {
     "end_time": "2023-01-22T08:04:56.409581Z",
     "start_time": "2023-01-22T08:04:56.392140Z"
    }
   },
   "outputs": [],
   "source": [
    "from scipy import stats"
   ]
  },
  {
   "cell_type": "code",
   "execution_count": 4,
   "id": "697d0362",
   "metadata": {
    "ExecuteTime": {
     "end_time": "2023-01-22T08:05:21.882745Z",
     "start_time": "2023-01-22T08:05:21.872455Z"
    }
   },
   "outputs": [
    {
     "data": {
      "text/plain": [
       "1.959963984540054"
      ]
     },
     "execution_count": 4,
     "metadata": {},
     "output_type": "execute_result"
    }
   ],
   "source": [
    "stats.norm.ppf(0.975)"
   ]
  },
  {
   "cell_type": "code",
   "execution_count": 6,
   "id": "163fbefb",
   "metadata": {
    "ExecuteTime": {
     "end_time": "2023-01-22T08:17:19.327036Z",
     "start_time": "2023-01-22T08:17:19.310727Z"
    }
   },
   "outputs": [
    {
     "data": {
      "text/plain": [
       "2.0537489106318225"
      ]
     },
     "execution_count": 6,
     "metadata": {},
     "output_type": "execute_result"
    }
   ],
   "source": [
    "stats.norm.ppf(0.98)"
   ]
  },
  {
   "cell_type": "code",
   "execution_count": 8,
   "id": "08673f5a",
   "metadata": {
    "ExecuteTime": {
     "end_time": "2023-01-22T08:24:21.287672Z",
     "start_time": "2023-01-22T08:24:21.278216Z"
    }
   },
   "outputs": [
    {
     "data": {
      "text/plain": [
       "0.5199388058383725"
      ]
     },
     "execution_count": 8,
     "metadata": {},
     "output_type": "execute_result"
    }
   ],
   "source": [
    "stats.norm.cdf(0.05)"
   ]
  },
  {
   "cell_type": "code",
   "execution_count": 9,
   "id": "42670038",
   "metadata": {
    "ExecuteTime": {
     "end_time": "2023-01-22T08:26:22.648357Z",
     "start_time": "2023-01-22T08:26:22.630084Z"
    }
   },
   "outputs": [
    {
     "data": {
      "text/plain": [
       "2.3263478740408408"
      ]
     },
     "execution_count": 9,
     "metadata": {},
     "output_type": "execute_result"
    }
   ],
   "source": [
    "stats.norm.ppf(0.99)"
   ]
  },
  {
   "cell_type": "code",
   "execution_count": null,
   "id": "2ab131bf",
   "metadata": {},
   "outputs": [],
   "source": []
  }
 ],
 "metadata": {
  "kernelspec": {
   "display_name": "Python 3 (ipykernel)",
   "language": "python",
   "name": "python3"
  },
  "language_info": {
   "codemirror_mode": {
    "name": "ipython",
    "version": 3
   },
   "file_extension": ".py",
   "mimetype": "text/x-python",
   "name": "python",
   "nbconvert_exporter": "python",
   "pygments_lexer": "ipython3",
   "version": "3.9.7"
  }
 },
 "nbformat": 4,
 "nbformat_minor": 5
}
